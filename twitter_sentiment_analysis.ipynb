{
  "nbformat": 4,
  "nbformat_minor": 0,
  "metadata": {
    "colab": {
      "name": "twitter-sentiment-analysis.ipynb",
      "provenance": []
    },
    "kernelspec": {
      "name": "python3",
      "display_name": "Python 3"
    },
    "accelerator": "GPU"
  },
  "cells": [
    {
      "cell_type": "markdown",
      "metadata": {
        "id": "djyOqZ_QktOG",
        "colab_type": "text"
      },
      "source": [
        "**Twitter Sentiment Analysis - A comparative study of LSTMs, GRUs & Conv1D layers in TensorFlow-Keras**"
      ]
    },
    {
      "cell_type": "code",
      "metadata": {
        "id": "kyZg71n5kpFu",
        "colab_type": "code",
        "colab": {}
      },
      "source": [
        "import json\n",
        "import tensorflow as tf\n",
        "import csv\n",
        "import random\n",
        "import numpy as np\n",
        "\n",
        "from tensorflow.keras.preprocessing.text import Tokenizer\n",
        "from tensorflow.keras.preprocessing.sequence import pad_sequences\n",
        "# from tensorflow.keras.utils import to_categorical\n",
        "# from tensorflow.keras import regularizers\n",
        "\n",
        "\n",
        "embedding_dim = 100\n",
        "max_length = 16\n",
        "trunc_type = 'post'\n",
        "padding_type = 'post'\n",
        "oov_tok = \"<OOV>\"\n",
        "training_size = 160000\n",
        "\n",
        "corpus = []"
      ],
      "execution_count": null,
      "outputs": []
    },
    {
      "cell_type": "code",
      "metadata": {
        "id": "rNuIBUdIlLp9",
        "colab_type": "code",
        "colab": {
          "base_uri": "https://localhost:8080/",
          "height": 70
        },
        "outputId": "da5b84c7-e93c-4ac5-8752-502ba0182974"
      },
      "source": [
        "import os\n",
        "dataset_url = \"https://storage.googleapis.com/laurencemoroney-blog.appspot.com/training_cleaned.csv\"\n",
        "fname = os.path.join(os.getcwd(), \"twitter-data.csv\")\n",
        "tf.keras.utils.get_file(fname, origin=dataset_url, extract=True)"
      ],
      "execution_count": null,
      "outputs": [
        {
          "output_type": "stream",
          "text": [
            "Downloading data from https://storage.googleapis.com/laurencemoroney-blog.appspot.com/training_cleaned.csv\n",
            "238944256/238942690 [==============================] - 2s 0us/step\n"
          ],
          "name": "stdout"
        },
        {
          "output_type": "execute_result",
          "data": {
            "application/vnd.google.colaboratory.intrinsic+json": {
              "type": "string"
            },
            "text/plain": [
              "'/content/twitter-data.csv'"
            ]
          },
          "metadata": {
            "tags": []
          },
          "execution_count": 2
        }
      ]
    },
    {
      "cell_type": "code",
      "metadata": {
        "id": "HNtftg1IlodF",
        "colab_type": "code",
        "colab": {
          "base_uri": "https://localhost:8080/",
          "height": 69
        },
        "outputId": "1b3131cc-8e13-4b5a-87d4-4aeee344eb17"
      },
      "source": [
        "num_sentences = 0\n",
        "with open('/content/twitter-data.csv') as csvfile:\n",
        "  reader = csv.reader(csvfile, delimiter=',')\n",
        "  for row in reader:\n",
        "    list_item = []\n",
        "    list_item.append(row[5])\n",
        "    label = 0 if row[0] == '0' else 1\n",
        "    list_item.append(label)\n",
        "    num_sentences += 1\n",
        "    corpus.append(list_item)\n",
        "\n",
        "\n",
        "print(num_sentences)\n",
        "print(len(corpus))\n",
        "print(corpus[1])"
      ],
      "execution_count": null,
      "outputs": [
        {
          "output_type": "stream",
          "text": [
            "1600000\n",
            "1600000\n",
            "[\"is upset that he can't update his Facebook by texting it... and might cry as a result  School today also. Blah!\", 0]\n"
          ],
          "name": "stdout"
        }
      ]
    },
    {
      "cell_type": "code",
      "metadata": {
        "id": "7jYWF2uAmfyL",
        "colab_type": "code",
        "colab": {
          "base_uri": "https://localhost:8080/",
          "height": 86
        },
        "outputId": "b9ef2651-20d3-46cb-8724-2283f65dae9e"
      },
      "source": [
        "sentences = []\n",
        "labels = []\n",
        "random.shuffle(corpus)\n",
        "\n",
        "for x in range(training_size):\n",
        "  sentences.append(corpus[x][0])\n",
        "  labels.append(corpus[x][1])\n",
        "\n",
        "training_portion = 0.8\n",
        "val_limit = 0.9\n",
        "\n",
        "train_split = int(training_portion * len(sentences))\n",
        "val_split = int(val_limit * len(sentences))\n",
        "\n",
        "\n",
        "training_sentences = sentences[: train_split]\n",
        "training_labels = labels[: train_split]\n",
        "\n",
        "val_sentences = sentences[train_split: val_split]\n",
        "val_labels = labels[train_split: val_split]\n",
        "\n",
        "test_sentences = sentences[val_split:]\n",
        "test_labels = labels[val_split:]\n",
        "\n",
        "print(len(sentences), len(labels))\n",
        "print(len(training_sentences), len(training_labels))\n",
        "print(len(val_sentences), len(val_labels))\n",
        "print(len(test_sentences), len(test_labels))"
      ],
      "execution_count": null,
      "outputs": [
        {
          "output_type": "stream",
          "text": [
            "160000 160000\n",
            "128000 128000\n",
            "16000 16000\n",
            "16000 16000\n"
          ],
          "name": "stdout"
        }
      ]
    },
    {
      "cell_type": "code",
      "metadata": {
        "id": "2x1uuSPNp2r4",
        "colab_type": "code",
        "colab": {
          "base_uri": "https://localhost:8080/",
          "height": 72
        },
        "outputId": "6a06caeb-fc38-4238-82f1-4172adcca744"
      },
      "source": [
        "tokenizer = Tokenizer(oov_token=oov_tok)\n",
        "tokenizer.fit_on_texts(training_sentences)\n",
        "word_index = tokenizer.word_index\n",
        "vocab_size = len(word_index)\n",
        "print(word_index, \"\\n\", vocab_size)\n",
        "\n",
        "training_sequences = tokenizer.texts_to_sequences(training_sentences)\n",
        "padded = pad_sequences(training_sequences, padding=padding_type, truncating=trunc_type, maxlen=max_length)\n",
        "\n",
        "val_sequences = tokenizer.texts_to_sequences(val_sentences)\n",
        "val_padded = pad_sequences(val_sequences, padding=padding_type, truncating=trunc_type, maxlen=max_length)"
      ],
      "execution_count": null,
      "outputs": []
    },
    {
      "cell_type": "code",
      "metadata": {
        "id": "Sl8LBMI5vZ4V",
        "colab_type": "code",
        "colab": {
          "base_uri": "https://localhost:8080/",
          "height": 225
        },
        "outputId": "0163fab8-46c0-45a4-8ef5-56bf5f97d37a"
      },
      "source": [
        "!wget --no-check-certificate \\\n",
        "    https://storage.googleapis.com/laurencemoroney-blog.appspot.com/glove.6B.100d.txt \\\n",
        "    -O /tmp/glove.6B.100d.txt\n",
        "\n",
        "embeddings_index = {};\n",
        "with open('/tmp/glove.6B.100d.txt') as f:\n",
        "    for line in f:\n",
        "        values = line.split();\n",
        "        word = values[0];\n",
        "        coefs = np.asarray(values[1:], dtype='float32');\n",
        "        embeddings_index[word] = coefs;\n",
        "\n",
        "embeddings_matrix = np.zeros((vocab_size+1, embedding_dim));\n",
        "for word, i in word_index.items():\n",
        "    embedding_vector = embeddings_index.get(word);\n",
        "    if embedding_vector is not None:\n",
        "        embeddings_matrix[i] = embedding_vector;\n",
        "\n",
        "print(len(embeddings_matrix))"
      ],
      "execution_count": null,
      "outputs": [
        {
          "output_type": "stream",
          "text": [
            "--2020-09-09 12:01:38--  https://storage.googleapis.com/laurencemoroney-blog.appspot.com/glove.6B.100d.txt\n",
            "Resolving storage.googleapis.com (storage.googleapis.com)... 173.194.76.128, 64.233.184.128, 66.102.1.128, ...\n",
            "Connecting to storage.googleapis.com (storage.googleapis.com)|173.194.76.128|:443... connected.\n",
            "HTTP request sent, awaiting response... 200 OK\n",
            "Length: 347116733 (331M) [text/plain]\n",
            "Saving to: ‘/tmp/glove.6B.100d.txt’\n",
            "\n",
            "/tmp/glove.6B.100d. 100%[===================>] 331.04M  38.6MB/s    in 7.0s    \n",
            "\n",
            "2020-09-09 12:01:45 (47.0 MB/s) - ‘/tmp/glove.6B.100d.txt’ saved [347116733/347116733]\n",
            "\n",
            "118023\n"
          ],
          "name": "stdout"
        }
      ]
    },
    {
      "cell_type": "markdown",
      "metadata": {
        "id": "BhHUlyrvtkRM",
        "colab_type": "text"
      },
      "source": [
        "Model 0 : Only Embedding layer"
      ]
    },
    {
      "cell_type": "code",
      "metadata": {
        "id": "R2jpd8Boq_Z6",
        "colab_type": "code",
        "colab": {
          "base_uri": "https://localhost:8080/",
          "height": 294
        },
        "outputId": "eb9edd5f-ebea-49ba-c0b0-2e8829d6b7fd"
      },
      "source": [
        "training_labels = np.array(training_labels)\n",
        "val_labels = np.array(val_labels)\n",
        "\n",
        "model_0 = tf.keras.Sequential([\n",
        "      tf.keras.layers.Embedding(input_dim=vocab_size+1, \n",
        "                                output_dim=embedding_dim, \n",
        "                                input_length=max_length, \n",
        "                                weights=[embeddings_matrix],\n",
        "                                trainable=False),\n",
        "      tf.keras.layers.GlobalAveragePooling1D(),\n",
        "      tf.keras.layers.Dense(8, activation='relu'),\n",
        "      tf.keras.layers.Dense(1, activation='sigmoid')\n",
        "])\n",
        "\n",
        "model_0.compile(loss='binary_crossentropy', optimizer='adam', metrics=['accuracy'])\n",
        "model_0.summary()"
      ],
      "execution_count": null,
      "outputs": [
        {
          "output_type": "stream",
          "text": [
            "Model: \"sequential_2\"\n",
            "_________________________________________________________________\n",
            "Layer (type)                 Output Shape              Param #   \n",
            "=================================================================\n",
            "embedding_2 (Embedding)      (None, 16, 100)           11802300  \n",
            "_________________________________________________________________\n",
            "global_average_pooling1d_2 ( (None, 100)               0         \n",
            "_________________________________________________________________\n",
            "dense_4 (Dense)              (None, 8)                 808       \n",
            "_________________________________________________________________\n",
            "dense_5 (Dense)              (None, 1)                 9         \n",
            "=================================================================\n",
            "Total params: 11,803,117\n",
            "Trainable params: 817\n",
            "Non-trainable params: 11,802,300\n",
            "_________________________________________________________________\n"
          ],
          "name": "stdout"
        }
      ]
    },
    {
      "cell_type": "code",
      "metadata": {
        "id": "Uc_ImznnrOMV",
        "colab_type": "code",
        "colab": {
          "base_uri": "https://localhost:8080/",
          "height": 1000
        },
        "outputId": "70cf7213-fc3a-4f57-cb52-a8d88b395861"
      },
      "source": [
        "history_0 = model_0.fit(padded, training_labels, epochs=50, validation_data=(val_padded, val_labels))"
      ],
      "execution_count": null,
      "outputs": [
        {
          "output_type": "stream",
          "text": [
            "Epoch 1/50\n",
            "4000/4000 [==============================] - 11s 3ms/step - loss: 0.6156 - accuracy: 0.6687 - val_loss: 0.6086 - val_accuracy: 0.6689\n",
            "Epoch 2/50\n",
            "4000/4000 [==============================] - 11s 3ms/step - loss: 0.5897 - accuracy: 0.6909 - val_loss: 0.5848 - val_accuracy: 0.6888\n",
            "Epoch 3/50\n",
            "4000/4000 [==============================] - 11s 3ms/step - loss: 0.5804 - accuracy: 0.6957 - val_loss: 0.5793 - val_accuracy: 0.6888\n",
            "Epoch 4/50\n",
            "4000/4000 [==============================] - 11s 3ms/step - loss: 0.5766 - accuracy: 0.6972 - val_loss: 0.5778 - val_accuracy: 0.6910\n",
            "Epoch 5/50\n",
            "4000/4000 [==============================] - 11s 3ms/step - loss: 0.5743 - accuracy: 0.6973 - val_loss: 0.5756 - val_accuracy: 0.6948\n",
            "Epoch 6/50\n",
            "4000/4000 [==============================] - 11s 3ms/step - loss: 0.5724 - accuracy: 0.6993 - val_loss: 0.5755 - val_accuracy: 0.6953\n",
            "Epoch 7/50\n",
            "4000/4000 [==============================] - 12s 3ms/step - loss: 0.5712 - accuracy: 0.6996 - val_loss: 0.5752 - val_accuracy: 0.6971\n",
            "Epoch 8/50\n",
            "4000/4000 [==============================] - 11s 3ms/step - loss: 0.5700 - accuracy: 0.7009 - val_loss: 0.5728 - val_accuracy: 0.6979\n",
            "Epoch 9/50\n",
            "4000/4000 [==============================] - 11s 3ms/step - loss: 0.5686 - accuracy: 0.7023 - val_loss: 0.5776 - val_accuracy: 0.6934\n",
            "Epoch 10/50\n",
            "4000/4000 [==============================] - 11s 3ms/step - loss: 0.5676 - accuracy: 0.7032 - val_loss: 0.5725 - val_accuracy: 0.6973\n",
            "Epoch 11/50\n",
            "4000/4000 [==============================] - 11s 3ms/step - loss: 0.5666 - accuracy: 0.7045 - val_loss: 0.5715 - val_accuracy: 0.6998\n",
            "Epoch 12/50\n",
            "4000/4000 [==============================] - 11s 3ms/step - loss: 0.5655 - accuracy: 0.7056 - val_loss: 0.5738 - val_accuracy: 0.6973\n",
            "Epoch 13/50\n",
            "4000/4000 [==============================] - 11s 3ms/step - loss: 0.5650 - accuracy: 0.7059 - val_loss: 0.5726 - val_accuracy: 0.6989\n",
            "Epoch 14/50\n",
            "4000/4000 [==============================] - 11s 3ms/step - loss: 0.5645 - accuracy: 0.7068 - val_loss: 0.5703 - val_accuracy: 0.6984\n",
            "Epoch 15/50\n",
            "4000/4000 [==============================] - 11s 3ms/step - loss: 0.5638 - accuracy: 0.7070 - val_loss: 0.5703 - val_accuracy: 0.7006\n",
            "Epoch 16/50\n",
            "4000/4000 [==============================] - 11s 3ms/step - loss: 0.5631 - accuracy: 0.7076 - val_loss: 0.5696 - val_accuracy: 0.6977\n",
            "Epoch 17/50\n",
            "4000/4000 [==============================] - 11s 3ms/step - loss: 0.5627 - accuracy: 0.7093 - val_loss: 0.5706 - val_accuracy: 0.6991\n",
            "Epoch 18/50\n",
            "4000/4000 [==============================] - 11s 3ms/step - loss: 0.5623 - accuracy: 0.7089 - val_loss: 0.5704 - val_accuracy: 0.7001\n",
            "Epoch 19/50\n",
            "4000/4000 [==============================] - 11s 3ms/step - loss: 0.5618 - accuracy: 0.7100 - val_loss: 0.5707 - val_accuracy: 0.6986\n",
            "Epoch 20/50\n",
            "4000/4000 [==============================] - 11s 3ms/step - loss: 0.5618 - accuracy: 0.7093 - val_loss: 0.5688 - val_accuracy: 0.7003\n",
            "Epoch 21/50\n",
            "4000/4000 [==============================] - 11s 3ms/step - loss: 0.5614 - accuracy: 0.7099 - val_loss: 0.5692 - val_accuracy: 0.6994\n",
            "Epoch 22/50\n",
            "4000/4000 [==============================] - 11s 3ms/step - loss: 0.5611 - accuracy: 0.7103 - val_loss: 0.5707 - val_accuracy: 0.6988\n",
            "Epoch 23/50\n",
            "4000/4000 [==============================] - 11s 3ms/step - loss: 0.5609 - accuracy: 0.7100 - val_loss: 0.5684 - val_accuracy: 0.7007\n",
            "Epoch 24/50\n",
            "4000/4000 [==============================] - 11s 3ms/step - loss: 0.5606 - accuracy: 0.7109 - val_loss: 0.5690 - val_accuracy: 0.7013\n",
            "Epoch 25/50\n",
            "4000/4000 [==============================] - 11s 3ms/step - loss: 0.5604 - accuracy: 0.7102 - val_loss: 0.5690 - val_accuracy: 0.6980\n",
            "Epoch 26/50\n",
            "4000/4000 [==============================] - 11s 3ms/step - loss: 0.5601 - accuracy: 0.7108 - val_loss: 0.5697 - val_accuracy: 0.7003\n",
            "Epoch 27/50\n",
            "4000/4000 [==============================] - 11s 3ms/step - loss: 0.5599 - accuracy: 0.7118 - val_loss: 0.5687 - val_accuracy: 0.6998\n",
            "Epoch 28/50\n",
            "4000/4000 [==============================] - 11s 3ms/step - loss: 0.5599 - accuracy: 0.7112 - val_loss: 0.5690 - val_accuracy: 0.6979\n",
            "Epoch 29/50\n",
            "4000/4000 [==============================] - 11s 3ms/step - loss: 0.5598 - accuracy: 0.7114 - val_loss: 0.5702 - val_accuracy: 0.6964\n",
            "Epoch 30/50\n",
            "4000/4000 [==============================] - 11s 3ms/step - loss: 0.5595 - accuracy: 0.7115 - val_loss: 0.5711 - val_accuracy: 0.7007\n",
            "Epoch 31/50\n",
            "4000/4000 [==============================] - 11s 3ms/step - loss: 0.5594 - accuracy: 0.7109 - val_loss: 0.5692 - val_accuracy: 0.6991\n",
            "Epoch 32/50\n",
            "4000/4000 [==============================] - 11s 3ms/step - loss: 0.5593 - accuracy: 0.7114 - val_loss: 0.5704 - val_accuracy: 0.6976\n",
            "Epoch 33/50\n",
            "4000/4000 [==============================] - 11s 3ms/step - loss: 0.5594 - accuracy: 0.7124 - val_loss: 0.5765 - val_accuracy: 0.6973\n",
            "Epoch 34/50\n",
            "4000/4000 [==============================] - 12s 3ms/step - loss: 0.5593 - accuracy: 0.7116 - val_loss: 0.5701 - val_accuracy: 0.6979\n",
            "Epoch 35/50\n",
            "4000/4000 [==============================] - 11s 3ms/step - loss: 0.5589 - accuracy: 0.7109 - val_loss: 0.5699 - val_accuracy: 0.6992\n",
            "Epoch 36/50\n",
            "4000/4000 [==============================] - 12s 3ms/step - loss: 0.5591 - accuracy: 0.7116 - val_loss: 0.5711 - val_accuracy: 0.6982\n",
            "Epoch 37/50\n",
            "4000/4000 [==============================] - 11s 3ms/step - loss: 0.5586 - accuracy: 0.7120 - val_loss: 0.5691 - val_accuracy: 0.6988\n",
            "Epoch 38/50\n",
            "4000/4000 [==============================] - 11s 3ms/step - loss: 0.5588 - accuracy: 0.7119 - val_loss: 0.5691 - val_accuracy: 0.6989\n",
            "Epoch 39/50\n",
            "4000/4000 [==============================] - 11s 3ms/step - loss: 0.5586 - accuracy: 0.7124 - val_loss: 0.5697 - val_accuracy: 0.7003\n",
            "Epoch 40/50\n",
            "4000/4000 [==============================] - 11s 3ms/step - loss: 0.5585 - accuracy: 0.7119 - val_loss: 0.5706 - val_accuracy: 0.6997\n",
            "Epoch 41/50\n",
            "4000/4000 [==============================] - 11s 3ms/step - loss: 0.5585 - accuracy: 0.7117 - val_loss: 0.5692 - val_accuracy: 0.6991\n",
            "Epoch 42/50\n",
            "4000/4000 [==============================] - 11s 3ms/step - loss: 0.5583 - accuracy: 0.7110 - val_loss: 0.5693 - val_accuracy: 0.6992\n",
            "Epoch 43/50\n",
            "4000/4000 [==============================] - 11s 3ms/step - loss: 0.5587 - accuracy: 0.7115 - val_loss: 0.5690 - val_accuracy: 0.6998\n",
            "Epoch 44/50\n",
            "4000/4000 [==============================] - 11s 3ms/step - loss: 0.5584 - accuracy: 0.7122 - val_loss: 0.5687 - val_accuracy: 0.7019\n",
            "Epoch 45/50\n",
            "4000/4000 [==============================] - 11s 3ms/step - loss: 0.5582 - accuracy: 0.7120 - val_loss: 0.5715 - val_accuracy: 0.6978\n",
            "Epoch 46/50\n",
            "4000/4000 [==============================] - 11s 3ms/step - loss: 0.5583 - accuracy: 0.7120 - val_loss: 0.5700 - val_accuracy: 0.6999\n",
            "Epoch 47/50\n",
            "4000/4000 [==============================] - 11s 3ms/step - loss: 0.5583 - accuracy: 0.7120 - val_loss: 0.5705 - val_accuracy: 0.6995\n",
            "Epoch 48/50\n",
            "4000/4000 [==============================] - 11s 3ms/step - loss: 0.5578 - accuracy: 0.7126 - val_loss: 0.5721 - val_accuracy: 0.6984\n",
            "Epoch 49/50\n",
            "4000/4000 [==============================] - 11s 3ms/step - loss: 0.5581 - accuracy: 0.7123 - val_loss: 0.5687 - val_accuracy: 0.7010\n",
            "Epoch 50/50\n",
            "4000/4000 [==============================] - 11s 3ms/step - loss: 0.5580 - accuracy: 0.7120 - val_loss: 0.5696 - val_accuracy: 0.7009\n"
          ],
          "name": "stdout"
        }
      ]
    },
    {
      "cell_type": "code",
      "metadata": {
        "id": "6Lrh4XuJs8G9",
        "colab_type": "code",
        "colab": {
          "base_uri": "https://localhost:8080/",
          "height": 541
        },
        "outputId": "012f15c9-9f47-4909-83f7-cedf687e9e33"
      },
      "source": [
        "import matplotlib.pyplot as plt\n",
        "def plot_graphs(hist, string):\n",
        "    plt.plot(hist.history[string])\n",
        "    plt.plot(hist.history['val_' + string])\n",
        "    plt.xlabel(\"Epochs\")\n",
        "    plt.ylabel(string)\n",
        "    plt.legend([string, 'val_' + string])\n",
        "    plt.show()\n",
        "\n",
        "plot_graphs(history_0, \"accuracy\")\n",
        "plot_graphs(history_0, \"loss\")"
      ],
      "execution_count": null,
      "outputs": [
        {
          "output_type": "display_data",
          "data": {
            "image/png": "[encoded data removed]",
            "text/plain": [
              "<Figure size 432x288 with 1 Axes>"
            ]
          },
          "metadata": {
            "tags": [],
            "needs_background": "light"
          }
        },
        {
          "output_type": "display_data",
          "data": {
            "image/png": "[encoded data removed]",
            "text/plain": [
              "<Figure size 432x288 with 1 Axes>"
            ]
          },
          "metadata": {
            "tags": [],
            "needs_background": "light"
          }
        }
      ]
    },
    {
      "cell_type": "markdown",
      "metadata": {
        "id": "wJ7x3_sitOlA",
        "colab_type": "text"
      },
      "source": [
        "Model 1 : 1 LSTM\n"
      ]
    },
    {
      "cell_type": "code",
      "metadata": {
        "id": "0mQbonjutSEu",
        "colab_type": "code",
        "colab": {
          "base_uri": "https://localhost:8080/",
          "height": 1000
        },
        "outputId": "441ecb24-8321-42dc-82d0-324f174be665"
      },
      "source": [
        "model_1 = tf.keras.Sequential([\n",
        "      tf.keras.layers.Embedding(input_dim=vocab_size+1, \n",
        "                                output_dim=embedding_dim, \n",
        "                                input_length=max_length,\n",
        "                                weights=[embeddings_matrix],\n",
        "                                trainable=False),\n",
        "      tf.keras.layers.LSTM(64),\n",
        "      tf.keras.layers.Dense(8, activation='relu'),\n",
        "      tf.keras.layers.Dense(1, activation='sigmoid')\n",
        "])\n",
        "\n",
        "model_1.compile(loss='binary_crossentropy', optimizer='adam', metrics=['accuracy'])\n",
        "model_1.summary()\n",
        "\n",
        "history_1 = model_1.fit(padded, training_labels, epochs=50, validation_data=(val_padded, val_labels))\n",
        "\n",
        "plot_graphs(history_1, \"accuracy\")\n",
        "plot_graphs(history_1, \"loss\")"
      ],
      "execution_count": null,
      "outputs": [
        {
          "output_type": "stream",
          "text": [
            "Model: \"sequential_3\"\n",
            "_________________________________________________________________\n",
            "Layer (type)                 Output Shape              Param #   \n",
            "=================================================================\n",
            "embedding_3 (Embedding)      (None, 16, 100)           11802300  \n",
            "_________________________________________________________________\n",
            "lstm (LSTM)                  (None, 64)                42240     \n",
            "_________________________________________________________________\n",
            "dense_6 (Dense)              (None, 8)                 520       \n",
            "_________________________________________________________________\n",
            "dense_7 (Dense)              (None, 1)                 9         \n",
            "=================================================================\n",
            "Total params: 11,845,069\n",
            "Trainable params: 42,769\n",
            "Non-trainable params: 11,802,300\n",
            "_________________________________________________________________\n",
            "Epoch 1/50\n",
            "4000/4000 [==============================] - 26s 6ms/step - loss: 0.5421 - accuracy: 0.7201 - val_loss: 0.5155 - val_accuracy: 0.7409\n",
            "Epoch 2/50\n",
            "4000/4000 [==============================] - 25s 6ms/step - loss: 0.4923 - accuracy: 0.7592 - val_loss: 0.4973 - val_accuracy: 0.7573\n",
            "Epoch 3/50\n",
            "4000/4000 [==============================] - 25s 6ms/step - loss: 0.4710 - accuracy: 0.7734 - val_loss: 0.4879 - val_accuracy: 0.7639\n",
            "Epoch 4/50\n",
            "4000/4000 [==============================] - 25s 6ms/step - loss: 0.4537 - accuracy: 0.7835 - val_loss: 0.4792 - val_accuracy: 0.7673\n",
            "Epoch 5/50\n",
            "4000/4000 [==============================] - 26s 7ms/step - loss: 0.4395 - accuracy: 0.7918 - val_loss: 0.4787 - val_accuracy: 0.7716\n",
            "Epoch 6/50\n",
            "4000/4000 [==============================] - 26s 6ms/step - loss: 0.4261 - accuracy: 0.8001 - val_loss: 0.4771 - val_accuracy: 0.7743\n",
            "Epoch 7/50\n",
            "4000/4000 [==============================] - 25s 6ms/step - loss: 0.4130 - accuracy: 0.8083 - val_loss: 0.4911 - val_accuracy: 0.7673\n",
            "Epoch 8/50\n",
            "4000/4000 [==============================] - 25s 6ms/step - loss: 0.4008 - accuracy: 0.8148 - val_loss: 0.4845 - val_accuracy: 0.7680\n",
            "Epoch 9/50\n",
            "4000/4000 [==============================] - 25s 6ms/step - loss: 0.3893 - accuracy: 0.8211 - val_loss: 0.4999 - val_accuracy: 0.7649\n",
            "Epoch 10/50\n",
            "4000/4000 [==============================] - 25s 6ms/step - loss: 0.3776 - accuracy: 0.8281 - val_loss: 0.5107 - val_accuracy: 0.7664\n",
            "Epoch 11/50\n",
            "4000/4000 [==============================] - 25s 6ms/step - loss: 0.3667 - accuracy: 0.8341 - val_loss: 0.5161 - val_accuracy: 0.7653\n",
            "Epoch 12/50\n",
            "4000/4000 [==============================] - 25s 6ms/step - loss: 0.3558 - accuracy: 0.8401 - val_loss: 0.5476 - val_accuracy: 0.7606\n",
            "Epoch 13/50\n",
            "4000/4000 [==============================] - 25s 6ms/step - loss: 0.3458 - accuracy: 0.8443 - val_loss: 0.5469 - val_accuracy: 0.7574\n",
            "Epoch 14/50\n",
            "4000/4000 [==============================] - 25s 6ms/step - loss: 0.3359 - accuracy: 0.8504 - val_loss: 0.5475 - val_accuracy: 0.7609\n",
            "Epoch 15/50\n",
            "4000/4000 [==============================] - 25s 6ms/step - loss: 0.3272 - accuracy: 0.8550 - val_loss: 0.5794 - val_accuracy: 0.7590\n",
            "Epoch 16/50\n",
            "4000/4000 [==============================] - 26s 6ms/step - loss: 0.3178 - accuracy: 0.8586 - val_loss: 0.5691 - val_accuracy: 0.7563\n",
            "Epoch 17/50\n",
            "4000/4000 [==============================] - 26s 6ms/step - loss: 0.3101 - accuracy: 0.8623 - val_loss: 0.5736 - val_accuracy: 0.7574\n",
            "Epoch 18/50\n",
            "4000/4000 [==============================] - 26s 7ms/step - loss: 0.3017 - accuracy: 0.8663 - val_loss: 0.6015 - val_accuracy: 0.7557\n",
            "Epoch 19/50\n",
            "4000/4000 [==============================] - 25s 6ms/step - loss: 0.2942 - accuracy: 0.8700 - val_loss: 0.6007 - val_accuracy: 0.7534\n",
            "Epoch 20/50\n",
            "4000/4000 [==============================] - 25s 6ms/step - loss: 0.2875 - accuracy: 0.8736 - val_loss: 0.6224 - val_accuracy: 0.7536\n",
            "Epoch 21/50\n",
            "4000/4000 [==============================] - 25s 6ms/step - loss: 0.2818 - accuracy: 0.8761 - val_loss: 0.6346 - val_accuracy: 0.7552\n",
            "Epoch 22/50\n",
            "4000/4000 [==============================] - 25s 6ms/step - loss: 0.2745 - accuracy: 0.8787 - val_loss: 0.6472 - val_accuracy: 0.7478\n",
            "Epoch 23/50\n",
            "4000/4000 [==============================] - 25s 6ms/step - loss: 0.2679 - accuracy: 0.8824 - val_loss: 0.6577 - val_accuracy: 0.7524\n",
            "Epoch 24/50\n",
            "4000/4000 [==============================] - 26s 6ms/step - loss: 0.2633 - accuracy: 0.8844 - val_loss: 0.6962 - val_accuracy: 0.7482\n",
            "Epoch 25/50\n",
            "4000/4000 [==============================] - 25s 6ms/step - loss: 0.2584 - accuracy: 0.8869 - val_loss: 0.6867 - val_accuracy: 0.7499\n",
            "Epoch 26/50\n",
            "4000/4000 [==============================] - 25s 6ms/step - loss: 0.2535 - accuracy: 0.8892 - val_loss: 0.6942 - val_accuracy: 0.7471\n",
            "Epoch 27/50\n",
            "4000/4000 [==============================] - 26s 6ms/step - loss: 0.2476 - accuracy: 0.8920 - val_loss: 0.7328 - val_accuracy: 0.7465\n",
            "Epoch 28/50\n",
            "4000/4000 [==============================] - 26s 6ms/step - loss: 0.2449 - accuracy: 0.8933 - val_loss: 0.7734 - val_accuracy: 0.7481\n",
            "Epoch 29/50\n",
            "4000/4000 [==============================] - 26s 6ms/step - loss: 0.2390 - accuracy: 0.8965 - val_loss: 0.7549 - val_accuracy: 0.7481\n",
            "Epoch 30/50\n",
            "4000/4000 [==============================] - 26s 7ms/step - loss: 0.2348 - accuracy: 0.8973 - val_loss: 0.7766 - val_accuracy: 0.7454\n",
            "Epoch 31/50\n",
            "4000/4000 [==============================] - 25s 6ms/step - loss: 0.2318 - accuracy: 0.8987 - val_loss: 0.8050 - val_accuracy: 0.7442\n",
            "Epoch 32/50\n",
            "1607/4000 [===========>..................] - ETA: 14s - loss: 0.2188 - accuracy: 0.9055"
          ],
          "name": "stdout"
        }
      ]
    },
    {
      "cell_type": "markdown",
      "metadata": {
        "id": "7w-0Uix_toR0",
        "colab_type": "text"
      },
      "source": [
        "Model 2 : Bidirectional LSTM"
      ]
    },
    {
      "cell_type": "code",
      "metadata": {
        "id": "Qy4SHGCStrxw",
        "colab_type": "code",
        "colab": {}
      },
      "source": [
        "model_2 = tf.keras.Sequential([\n",
        "      tf.keras.layers.Embedding(input_dim=vocab_size+1, \n",
        "                                output_dim=embedding_dim, \n",
        "                                input_length=max_length,\n",
        "                                weights=[embeddings_matrix],\n",
        "                                trainable=False),\n",
        "      tf.keras.layers.Bidirectional(tf.keras.layers.LSTM(64)),\n",
        "      tf.keras.layers.Dense(8, activation='relu'),\n",
        "      tf.keras.layers.Dense(1, activation='sigmoid')\n",
        "])\n",
        "\n",
        "model_2.compile(loss='binary_crossentropy', optimizer='adam', metrics=['accuracy'])\n",
        "model_2.summary()\n",
        "\n",
        "history_2 = model_2.fit(padded, training_labels, epochs=50, validation_data=(val_padded, val_labels), verbose=2)\n",
        "\n",
        "plot_graphs(history_2, \"accuracy\")\n",
        "plot_graphs(history_2, \"loss\")"
      ],
      "execution_count": null,
      "outputs": []
    },
    {
      "cell_type": "markdown",
      "metadata": {
        "id": "UMGcteT4t1qH",
        "colab_type": "text"
      },
      "source": [
        "Model 3 : 2 Bidirectional LSTMs"
      ]
    },
    {
      "cell_type": "code",
      "metadata": {
        "id": "QLGfRjaRt4zS",
        "colab_type": "code",
        "colab": {}
      },
      "source": [
        "model_3 = tf.keras.Sequential([\n",
        "      tf.keras.layers.Embedding(input_dim=vocab_size+1, \n",
        "                                output_dim=embedding_dim, \n",
        "                                input_length=max_length,\n",
        "                                weights=[embeddings_matrix],\n",
        "                                trainable=False),\n",
        "      tf.keras.layers.Bidirectional(tf.keras.layers.LSTM(64, num_sequences=True)),\n",
        "      tf.keras.layers.Bidirectional(tf.keras.layers.LSTM(64)),\n",
        "      tf.keras.layers.Dense(8, activation='relu'),\n",
        "      tf.keras.layers.Dense(1, activation='sigmoid')\n",
        "])\n",
        "\n",
        "model_3.compile(loss='binary_crossentropy', optimizer='adam', metrics=['accuracy'])\n",
        "model_3.summary()\n",
        "\n",
        "history_3 = model_3.fit(padded, training_labels, epochs=50, validation_data=(val_padded, val_labels))\n",
        "\n",
        "plot_graphs(history_3, \"accuracy\")\n",
        "plot_graphs(history_3, \"loss\")"
      ],
      "execution_count": null,
      "outputs": []
    },
    {
      "cell_type": "markdown",
      "metadata": {
        "id": "_De6kcNfuAJn",
        "colab_type": "text"
      },
      "source": [
        "Model 4 : 1 GRU"
      ]
    },
    {
      "cell_type": "code",
      "metadata": {
        "id": "hNeiOtpbuDs4",
        "colab_type": "code",
        "colab": {}
      },
      "source": [
        "model_4 = tf.keras.Sequential([\n",
        "      tf.keras.layers.Embedding(input_dim=vocab_size+1, \n",
        "                                output_dim=embedding_dim, \n",
        "                                input_length=max_length,\n",
        "                                weights=[embeddings_matrix],\n",
        "                                trainable=False),\n",
        "      tf.keras.layers.GRU(64),\n",
        "      tf.keras.layers.Dense(8, activation='relu'),\n",
        "      tf.keras.layers.Dense(1, activation='sigmoid')\n",
        "])\n",
        "\n",
        "model_4.compile(loss='binary_crossentropy', optimizer='adam', metrics=['accuracy'])\n",
        "model_4.summary()\n",
        "\n",
        "history_4 = model_4.fit(padded, training_labels, epochs=50, validation_data=(val_padded, val_labels))\n",
        "\n",
        "plot_graphs(history_4, \"accuracy\")\n",
        "plot_graphs(history_4, \"loss\")"
      ],
      "execution_count": null,
      "outputs": []
    },
    {
      "cell_type": "markdown",
      "metadata": {
        "id": "rpCRa5uBuM03",
        "colab_type": "text"
      },
      "source": [
        "Model 5 : 1 Bidirectional GRU"
      ]
    },
    {
      "cell_type": "code",
      "metadata": {
        "id": "CuLPLeCiuQR4",
        "colab_type": "code",
        "colab": {}
      },
      "source": [
        "model_5 = tf.keras.Sequential([\n",
        "      tf.keras.layers.Embedding(input_dim=vocab_size+1, \n",
        "                                output_dim=embedding_dim, \n",
        "                                input_length=max_length,\n",
        "                                weights=[embeddings_matrix],\n",
        "                                trainable=False),\n",
        "      tf.keras.layers.Bidirectional(tf.keras.layers.GRU(64)),\n",
        "      tf.keras.layers.Dense(8, activation='relu'),\n",
        "      tf.keras.layers.Dense(1, activation='sigmoid')\n",
        "])\n",
        "\n",
        "model_5.compile(loss='binary_crossentropy', optimizer='adam', metrics=['accuracy'])\n",
        "model_5.summary()\n",
        "\n",
        "history_5 = model_5.fit(padded, training_labels, epochs=50, validation_data=(val_padded, val_labels))\n",
        "\n",
        "plot_graphs(history_5, \"accuracy\")\n",
        "plot_graphs(history_5, \"loss\")"
      ],
      "execution_count": null,
      "outputs": []
    },
    {
      "cell_type": "markdown",
      "metadata": {
        "id": "qD7CW0C1ucTh",
        "colab_type": "text"
      },
      "source": [
        "Model 6 : 2 Bidirectional GRUs"
      ]
    },
    {
      "cell_type": "code",
      "metadata": {
        "id": "ylFveNjJujQz",
        "colab_type": "code",
        "colab": {}
      },
      "source": [
        "model_6 = tf.keras.Sequential([\n",
        "      tf.keras.layers.Embedding(input_dim=vocab_size+1, \n",
        "                                output_dim=embedding_dim, \n",
        "                                input_length=max_length,\n",
        "                                weights=[embeddings_matrix],\n",
        "                                trainable=False),\n",
        "      tf.keras.layers.Bidirectional(tf.keras.layers.GRU(64, num_sequences=True)),\n",
        "      tf.keras.layers.Bidirectional(tf.keras.layers.GRU(64)),\n",
        "      tf.keras.layers.Dense(8, activation='relu'),\n",
        "      tf.keras.layers.Dense(1, activation='sigmoid')\n",
        "])\n",
        "\n",
        "model_6.compile(loss='binary_crossentropy', optimizer='adam', metrics=['accuracy'])\n",
        "model_6.summary()\n",
        "\n",
        "history_6 = model_6.fit(padded, training_labels, epochs=50, validation_data=(val_padded, val_labels))\n",
        "\n",
        "plot_graphs(history_6, \"accuracy\")\n",
        "plot_graphs(history_6, \"loss\")"
      ],
      "execution_count": null,
      "outputs": []
    },
    {
      "cell_type": "markdown",
      "metadata": {
        "id": "t_ymHUM7usyk",
        "colab_type": "text"
      },
      "source": [
        "Model 7 : Conv1D layer"
      ]
    },
    {
      "cell_type": "code",
      "metadata": {
        "id": "MNGMYTTguv2i",
        "colab_type": "code",
        "colab": {}
      },
      "source": [
        "model_7 = tf.keras.Sequential([\n",
        "      tf.keras.layers.Embedding(input_dim=vocab_size+1, \n",
        "                                output_dim=embedding_dim, \n",
        "                                input_length=max_length,\n",
        "                                weights=[embeddings_matrix],\n",
        "                                trainable=False),\n",
        "      tf.keras.layers.Conv1D(128, 5, activation='relu'),\n",
        "      tf.keras.layers.MaxPooling1D(pool_size=4),\n",
        "      tf.keras.layers.Dense(8, activation='relu'),\n",
        "      tf.keras.layers.Dense(1, activation='sigmoid')\n",
        "])\n",
        "\n",
        "model_7.compile(loss='binary_crossentropy', optimizer='adam', metrics=['accuracy'])\n",
        "model_7.summary()\n",
        "\n",
        "history_7 = model_7.fit(padded, training_labels, epochs=50, validation_data=(val_padded, val_labels))\n",
        "\n",
        "plot_graphs(history_7, \"accuracy\")\n",
        "plot_graphs(history_7, \"loss\")"
      ],
      "execution_count": null,
      "outputs": []
    }
  ]
}