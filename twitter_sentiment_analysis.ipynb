{
  "nbformat": 4,
  "nbformat_minor": 0,
  "metadata": {
    "colab": {
      "name": "twitter-sentiment-analysis.ipynb",
      "provenance": [],
      "authorship_tag": "ABX9TyPss2BKSiFmnwKEmGoseSFy",
      "include_colab_link": true
    },
    "kernelspec": {
      "name": "python3",
      "display_name": "Python 3"
    },
    "accelerator": "GPU"
  },
  "cells": [
    {
      "cell_type": "markdown",
      "metadata": {
        "id": "view-in-github",
        "colab_type": "text"
      },
      "source": [
        "<a href=\"https://colab.research.google.com/github/thekaranacharya/tweet-sentiment-detection/blob/master/twitter_sentiment_analysis.ipynb\" target=\"_parent\"><img src=\"https://colab.research.google.com/assets/colab-badge.svg\" alt=\"Open In Colab\"/></a>"
      ]
    },
    {
      "cell_type": "markdown",
      "metadata": {
        "id": "djyOqZ_QktOG",
        "colab_type": "text"
      },
      "source": [
        "**Twitter Sentiment Analysis - A comparative study of LSTMs, GRUs & Conv1D layers in TensorFlow-Keras**"
      ]
    },
    {
      "cell_type": "code",
      "metadata": {
        "id": "kyZg71n5kpFu",
        "colab_type": "code",
        "colab": {}
      },
      "source": [
        "import json\n",
        "import tensorflow as tf\n",
        "import csv\n",
        "import random\n",
        "import numpy as np\n",
        "\n",
        "from tensorflow.keras.preprocessing.text import Tokenizer\n",
        "from tensorflow.keras.preprocessing.sequence import pad_sequences\n",
        "\n",
        "\n",
        "embedding_dim = 100\n",
        "max_length = 64\n",
        "trunc_type = 'post'\n",
        "padding_type = 'post'\n",
        "oov_tok = \"<OOV>\"\n",
        "training_size = 160000\n",
        "\n",
        "corpus = []"
      ],
      "execution_count": 1,
      "outputs": []
    },
    {
      "cell_type": "markdown",
      "metadata": {
        "id": "YRJwhIM0ZgfV",
        "colab_type": "text"
      },
      "source": [
        "Download the dataset and load it in the runtime"
      ]
    },
    {
      "cell_type": "code",
      "metadata": {
        "id": "rNuIBUdIlLp9",
        "colab_type": "code",
        "colab": {
          "base_uri": "https://localhost:8080/",
          "height": 35
        },
        "outputId": "2fb1a6ef-8fb1-4240-8338-6aad63330b56"
      },
      "source": [
        "import os\n",
        "\n",
        "# downloading the cleaned dataset from Laurence Moroney's site\n",
        "dataset_url = \"https://storage.googleapis.com/laurencemoroney-blog.appspot.com/training_cleaned.csv\"\n",
        "fname = os.path.join(os.getcwd(), \"twitter-data.csv\")\n",
        "tf.keras.utils.get_file(fname, origin=dataset_url, extract=True)"
      ],
      "execution_count": 2,
      "outputs": [
        {
          "output_type": "execute_result",
          "data": {
            "application/vnd.google.colaboratory.intrinsic+json": {
              "type": "string"
            },
            "text/plain": [
              "'/content/twitter-data.csv'"
            ]
          },
          "metadata": {
            "tags": []
          },
          "execution_count": 2
        }
      ]
    },
    {
      "cell_type": "markdown",
      "metadata": {
        "id": "2dvibCLjZpdH",
        "colab_type": "text"
      },
      "source": [
        "Read the csv line by line and get the sentences (the actual tweet content) and the corresponding labels"
      ]
    },
    {
      "cell_type": "code",
      "metadata": {
        "id": "HNtftg1IlodF",
        "colab_type": "code",
        "colab": {
          "base_uri": "https://localhost:8080/",
          "height": 69
        },
        "outputId": "7fe9fc1c-6054-41f3-b7e7-d984e51802bc"
      },
      "source": [
        "num_sentences = 0\n",
        "with open('/content/twitter-data.csv') as csvfile:\n",
        "  reader = csv.reader(csvfile, delimiter=',')\n",
        "  for row in reader:\n",
        "    list_item = []\n",
        "    list_item.append(row[-1])\n",
        "    label = 0 if row[0] == '0' else 1\n",
        "    list_item.append(label)\n",
        "    num_sentences += 1\n",
        "    corpus.append(list_item)\n",
        "\n",
        "\n",
        "print(num_sentences)\n",
        "print(len(corpus))\n",
        "print(corpus[1])"
      ],
      "execution_count": 3,
      "outputs": [
        {
          "output_type": "stream",
          "text": [
            "1600000\n",
            "1600000\n",
            "[\"is upset that he can't update his Facebook by texting it... and might cry as a result  School today also. Blah!\", 0]\n"
          ],
          "name": "stdout"
        }
      ]
    },
    {
      "cell_type": "markdown",
      "metadata": {
        "id": "mia58psQYg1Z",
        "colab_type": "text"
      },
      "source": [
        "We'll only use training_size (160,000) sentences and corresponding labels out of the 1.6M corpus"
      ]
    },
    {
      "cell_type": "code",
      "metadata": {
        "id": "7jYWF2uAmfyL",
        "colab_type": "code",
        "colab": {}
      },
      "source": [
        "sentences = []\n",
        "labels = []\n",
        "random.shuffle(corpus)\n",
        "\n",
        "for x in range(training_size):\n",
        "  sentences.append(corpus[x][0])\n",
        "  labels.append(corpus[x][1])\n",
        "\n",
        "# Defining the Tokenizer\n",
        "tokenizer = Tokenizer()\n",
        "tokenizer.fit_on_texts(sentences)\n",
        "word_index = tokenizer.word_index\n",
        "vocab_size = len(word_index)\n",
        "\n",
        "sequences = tokenizer.texts_to_sequences(sentences)\n",
        "padded = pad_sequences(sequences, padding=padding_type, truncating=trunc_type, maxlen=max_length)\n",
        "\n",
        "training_portion = 0.9\n",
        "train_split = int(training_portion * len(sentences))\n",
        "\n",
        "training_padded = padded[: train_split]\n",
        "training_labels = np.array(labels[: train_split])\n",
        "\n",
        "val_padded = padded[train_split:]\n",
        "val_labels = np.array(labels[train_split:])"
      ],
      "execution_count": 22,
      "outputs": []
    },
    {
      "cell_type": "markdown",
      "metadata": {
        "id": "s8TRVWvWYtHg",
        "colab_type": "text"
      },
      "source": [
        "You might be wondering why we used the entire 'sentences' (160,000 tweets) on the Tokenizer's 'fit_on_texts' method. \n",
        "This is because we'll actually be using pre-trained Embeddings from GloVe(Transfer Learning).\n",
        "\n",
        "When we transfer learn, we split the data *after* fitting on the corpus.\n",
        "\n",
        "On the other hand,\n",
        "when we are not using Transfer Learning, we fit the Tokenizer only on the training sentences."
      ]
    },
    {
      "cell_type": "code",
      "metadata": {
        "id": "BT1suMPcaEtG",
        "colab_type": "code",
        "colab": {
          "base_uri": "https://localhost:8080/",
          "height": 69
        },
        "outputId": "32cdb4a8-324a-4d95-b0bc-0addb1a12e8d"
      },
      "source": [
        "print(len(padded), len(labels))\n",
        "print(len(training_padded), len(training_labels))\n",
        "print(len(val_padded), len(val_labels))"
      ],
      "execution_count": 5,
      "outputs": [
        {
          "output_type": "stream",
          "text": [
            "160000 160000\n",
            "144000 144000\n",
            "16000 16000\n"
          ],
          "name": "stdout"
        }
      ]
    },
    {
      "cell_type": "code",
      "metadata": {
        "id": "Sl8LBMI5vZ4V",
        "colab_type": "code",
        "colab": {
          "base_uri": "https://localhost:8080/",
          "height": 242
        },
        "outputId": "acdb82f7-adca-4213-946a-9fe50c904a20"
      },
      "source": [
        "# Using GloVe Embeddings (Transfer Learning)\n",
        "\n",
        "!wget --no-check-certificate \\\n",
        "    https://storage.googleapis.com/laurencemoroney-blog.appspot.com/glove.6B.100d.txt \\\n",
        "    -O /tmp/glove.6B.100d.txt\n",
        "\n",
        "embeddings_index = {}\n",
        "\n",
        "# get the word and the corresponding coefficients and add it to the dictionary 'embeddings_index'\n",
        "with open('/tmp/glove.6B.100d.txt') as f:\n",
        "    for line in f:\n",
        "        values = line.split()\n",
        "        word = values[0]\n",
        "        coefs = np.asarray(values[1:], dtype='float32')\n",
        "        embeddings_index[word] = coefs\n",
        "\n",
        "print(len(embeddings_index.keys())) # check the length\n",
        "\n",
        "\n",
        "# define a zero matrix\n",
        "embeddings_matrix = np.zeros((vocab_size+1, embedding_dim))\n",
        "\n",
        "# for each word from only the word_index(from the Tokenizer in the previous cell),\n",
        "# add the coefficents (a vector) to the matrix\n",
        "for word, i in word_index.items():\n",
        "    embedding_vector = embeddings_index.get(word);\n",
        "    if embedding_vector is not None:\n",
        "        embeddings_matrix[i] = embedding_vector;\n",
        "\n",
        "print(len(embeddings_matrix))"
      ],
      "execution_count": 10,
      "outputs": [
        {
          "output_type": "stream",
          "text": [
            "--2020-09-10 09:54:10--  https://storage.googleapis.com/laurencemoroney-blog.appspot.com/glove.6B.100d.txt\n",
            "Resolving storage.googleapis.com (storage.googleapis.com)... 74.125.141.128, 173.194.216.128, 74.125.26.128, ...\n",
            "Connecting to storage.googleapis.com (storage.googleapis.com)|74.125.141.128|:443... connected.\n",
            "HTTP request sent, awaiting response... 200 OK\n",
            "Length: 347116733 (331M) [text/plain]\n",
            "Saving to: ‘/tmp/glove.6B.100d.txt’\n",
            "\n",
            "/tmp/glove.6B.100d. 100%[===================>] 331.04M   121MB/s    in 2.7s    \n",
            "\n",
            "2020-09-10 09:54:14 (121 MB/s) - ‘/tmp/glove.6B.100d.txt’ saved [347116733/347116733]\n",
            "\n",
            "400000\n",
            "138424\n"
          ],
          "name": "stdout"
        }
      ]
    },
    {
      "cell_type": "markdown",
      "metadata": {
        "id": "LymAkF-6cCCY",
        "colab_type": "text"
      },
      "source": [
        "As you can see here, we are actually using only 138,424 (the vocab_size + 1) words from the total 400,000 in the GloVe version we downloaded!"
      ]
    },
    {
      "cell_type": "markdown",
      "metadata": {
        "id": "BhHUlyrvtkRM",
        "colab_type": "text"
      },
      "source": [
        "**Model 0 : Only the Embedding layer**"
      ]
    },
    {
      "cell_type": "code",
      "metadata": {
        "id": "R2jpd8Boq_Z6",
        "colab_type": "code",
        "colab": {
          "base_uri": "https://localhost:8080/",
          "height": 294
        },
        "outputId": "349b7c3c-1518-4f27-e338-54c977b21e44"
      },
      "source": [
        "training_labels = np.array(training_labels)\n",
        "val_labels = np.array(val_labels)\n",
        "\n",
        "model_0 = tf.keras.Sequential([\n",
        "      tf.keras.layers.Embedding(input_dim=vocab_size+1,\n",
        "                                output_dim=embedding_dim,\n",
        "                                input_length=max_length,\n",
        "                                weights=[embeddings_matrix],\n",
        "                                trainable=False),\n",
        "      tf.keras.layers.GlobalAveragePooling1D(),\n",
        "      tf.keras.layers.Dense(8, activation='relu'),\n",
        "      tf.keras.layers.Dense(1, activation='sigmoid')\n",
        "])\n",
        "\n",
        "model_0.compile(loss='binary_crossentropy', optimizer='adam', metrics=['accuracy'])\n",
        "model_0.summary()"
      ],
      "execution_count": 11,
      "outputs": [
        {
          "output_type": "stream",
          "text": [
            "Model: \"sequential\"\n",
            "_________________________________________________________________\n",
            "Layer (type)                 Output Shape              Param #   \n",
            "=================================================================\n",
            "embedding (Embedding)        (None, 64, 100)           13842400  \n",
            "_________________________________________________________________\n",
            "global_average_pooling1d (Gl (None, 100)               0         \n",
            "_________________________________________________________________\n",
            "dense (Dense)                (None, 8)                 808       \n",
            "_________________________________________________________________\n",
            "dense_1 (Dense)              (None, 1)                 9         \n",
            "=================================================================\n",
            "Total params: 13,843,217\n",
            "Trainable params: 817\n",
            "Non-trainable params: 13,842,400\n",
            "_________________________________________________________________\n"
          ],
          "name": "stdout"
        }
      ]
    },
    {
      "cell_type": "code",
      "metadata": {
        "id": "Uc_ImznnrOMV",
        "colab_type": "code",
        "colab": {
          "base_uri": "https://localhost:8080/",
          "height": 1000
        },
        "outputId": "7b755231-d9bf-450c-8bc7-c287d363ad10"
      },
      "source": [
        "history_0 = model_0.fit(training_padded, training_labels, epochs=50, validation_data=(val_padded, val_labels), verbose=2)"
      ],
      "execution_count": 13,
      "outputs": [
        {
          "output_type": "stream",
          "text": [
            "Epoch 1/50\n",
            "4500/4500 - 12s - loss: 0.6189 - accuracy: 0.6703 - val_loss: 0.5979 - val_accuracy: 0.6888\n",
            "Epoch 2/50\n",
            "4500/4500 - 12s - loss: 0.5908 - accuracy: 0.6969 - val_loss: 0.5910 - val_accuracy: 0.6958\n",
            "Epoch 3/50\n",
            "4500/4500 - 12s - loss: 0.5833 - accuracy: 0.7003 - val_loss: 0.5805 - val_accuracy: 0.7009\n",
            "Epoch 4/50\n",
            "4500/4500 - 12s - loss: 0.5753 - accuracy: 0.7033 - val_loss: 0.5744 - val_accuracy: 0.6978\n",
            "Epoch 5/50\n",
            "4500/4500 - 12s - loss: 0.5702 - accuracy: 0.7051 - val_loss: 0.5687 - val_accuracy: 0.7047\n",
            "Epoch 6/50\n",
            "4500/4500 - 12s - loss: 0.5669 - accuracy: 0.7067 - val_loss: 0.5662 - val_accuracy: 0.7034\n",
            "Epoch 7/50\n",
            "4500/4500 - 12s - loss: 0.5647 - accuracy: 0.7079 - val_loss: 0.5672 - val_accuracy: 0.6978\n",
            "Epoch 8/50\n",
            "4500/4500 - 12s - loss: 0.5635 - accuracy: 0.7082 - val_loss: 0.5624 - val_accuracy: 0.7072\n",
            "Epoch 9/50\n",
            "4500/4500 - 12s - loss: 0.5618 - accuracy: 0.7088 - val_loss: 0.5625 - val_accuracy: 0.7066\n",
            "Epoch 10/50\n",
            "4500/4500 - 12s - loss: 0.5608 - accuracy: 0.7096 - val_loss: 0.5604 - val_accuracy: 0.7078\n",
            "Epoch 11/50\n",
            "4500/4500 - 12s - loss: 0.5598 - accuracy: 0.7101 - val_loss: 0.5597 - val_accuracy: 0.7072\n",
            "Epoch 12/50\n",
            "4500/4500 - 12s - loss: 0.5590 - accuracy: 0.7106 - val_loss: 0.5596 - val_accuracy: 0.7049\n",
            "Epoch 13/50\n",
            "4500/4500 - 12s - loss: 0.5579 - accuracy: 0.7123 - val_loss: 0.5616 - val_accuracy: 0.7038\n",
            "Epoch 14/50\n",
            "4500/4500 - 12s - loss: 0.5573 - accuracy: 0.7124 - val_loss: 0.5585 - val_accuracy: 0.7089\n",
            "Epoch 15/50\n",
            "4500/4500 - 13s - loss: 0.5564 - accuracy: 0.7137 - val_loss: 0.5572 - val_accuracy: 0.7093\n",
            "Epoch 16/50\n",
            "4500/4500 - 12s - loss: 0.5559 - accuracy: 0.7131 - val_loss: 0.5572 - val_accuracy: 0.7092\n",
            "Epoch 17/50\n",
            "4500/4500 - 12s - loss: 0.5551 - accuracy: 0.7138 - val_loss: 0.5562 - val_accuracy: 0.7112\n",
            "Epoch 18/50\n",
            "4500/4500 - 12s - loss: 0.5546 - accuracy: 0.7146 - val_loss: 0.5585 - val_accuracy: 0.7101\n",
            "Epoch 19/50\n",
            "4500/4500 - 12s - loss: 0.5540 - accuracy: 0.7143 - val_loss: 0.5570 - val_accuracy: 0.7092\n",
            "Epoch 20/50\n",
            "4500/4500 - 13s - loss: 0.5534 - accuracy: 0.7150 - val_loss: 0.5553 - val_accuracy: 0.7113\n",
            "Epoch 21/50\n",
            "4500/4500 - 12s - loss: 0.5530 - accuracy: 0.7151 - val_loss: 0.5566 - val_accuracy: 0.7117\n",
            "Epoch 22/50\n",
            "4500/4500 - 12s - loss: 0.5526 - accuracy: 0.7154 - val_loss: 0.5549 - val_accuracy: 0.7112\n",
            "Epoch 23/50\n",
            "4500/4500 - 12s - loss: 0.5524 - accuracy: 0.7163 - val_loss: 0.5540 - val_accuracy: 0.7122\n",
            "Epoch 24/50\n",
            "4500/4500 - 12s - loss: 0.5521 - accuracy: 0.7163 - val_loss: 0.5541 - val_accuracy: 0.7114\n",
            "Epoch 25/50\n",
            "4500/4500 - 12s - loss: 0.5517 - accuracy: 0.7171 - val_loss: 0.5542 - val_accuracy: 0.7128\n",
            "Epoch 26/50\n",
            "4500/4500 - 12s - loss: 0.5512 - accuracy: 0.7176 - val_loss: 0.5568 - val_accuracy: 0.7135\n",
            "Epoch 27/50\n",
            "4500/4500 - 12s - loss: 0.5512 - accuracy: 0.7170 - val_loss: 0.5549 - val_accuracy: 0.7101\n",
            "Epoch 28/50\n",
            "4500/4500 - 12s - loss: 0.5508 - accuracy: 0.7176 - val_loss: 0.5549 - val_accuracy: 0.7127\n",
            "Epoch 29/50\n",
            "4500/4500 - 12s - loss: 0.5508 - accuracy: 0.7170 - val_loss: 0.5548 - val_accuracy: 0.7118\n",
            "Epoch 30/50\n",
            "4500/4500 - 12s - loss: 0.5504 - accuracy: 0.7177 - val_loss: 0.5540 - val_accuracy: 0.7137\n",
            "Epoch 31/50\n",
            "4500/4500 - 12s - loss: 0.5502 - accuracy: 0.7178 - val_loss: 0.5538 - val_accuracy: 0.7113\n",
            "Epoch 32/50\n",
            "4500/4500 - 12s - loss: 0.5500 - accuracy: 0.7183 - val_loss: 0.5533 - val_accuracy: 0.7124\n",
            "Epoch 33/50\n",
            "4500/4500 - 12s - loss: 0.5499 - accuracy: 0.7187 - val_loss: 0.5526 - val_accuracy: 0.7143\n",
            "Epoch 34/50\n",
            "4500/4500 - 12s - loss: 0.5496 - accuracy: 0.7192 - val_loss: 0.5527 - val_accuracy: 0.7129\n",
            "Epoch 35/50\n",
            "4500/4500 - 12s - loss: 0.5496 - accuracy: 0.7188 - val_loss: 0.5563 - val_accuracy: 0.7117\n",
            "Epoch 36/50\n",
            "4500/4500 - 12s - loss: 0.5493 - accuracy: 0.7190 - val_loss: 0.5534 - val_accuracy: 0.7144\n",
            "Epoch 37/50\n",
            "4500/4500 - 12s - loss: 0.5493 - accuracy: 0.7184 - val_loss: 0.5540 - val_accuracy: 0.7132\n",
            "Epoch 38/50\n",
            "4500/4500 - 12s - loss: 0.5491 - accuracy: 0.7189 - val_loss: 0.5534 - val_accuracy: 0.7137\n",
            "Epoch 39/50\n",
            "4500/4500 - 12s - loss: 0.5490 - accuracy: 0.7196 - val_loss: 0.5541 - val_accuracy: 0.7157\n",
            "Epoch 40/50\n",
            "4500/4500 - 13s - loss: 0.5489 - accuracy: 0.7187 - val_loss: 0.5529 - val_accuracy: 0.7137\n",
            "Epoch 41/50\n",
            "4500/4500 - 12s - loss: 0.5487 - accuracy: 0.7193 - val_loss: 0.5540 - val_accuracy: 0.7143\n",
            "Epoch 42/50\n",
            "4500/4500 - 12s - loss: 0.5484 - accuracy: 0.7197 - val_loss: 0.5533 - val_accuracy: 0.7153\n",
            "Epoch 43/50\n",
            "4500/4500 - 12s - loss: 0.5484 - accuracy: 0.7194 - val_loss: 0.5534 - val_accuracy: 0.7149\n",
            "Epoch 44/50\n",
            "4500/4500 - 12s - loss: 0.5486 - accuracy: 0.7197 - val_loss: 0.5547 - val_accuracy: 0.7131\n",
            "Epoch 45/50\n",
            "4500/4500 - 13s - loss: 0.5484 - accuracy: 0.7197 - val_loss: 0.5528 - val_accuracy: 0.7127\n",
            "Epoch 46/50\n",
            "4500/4500 - 12s - loss: 0.5483 - accuracy: 0.7198 - val_loss: 0.5529 - val_accuracy: 0.7154\n",
            "Epoch 47/50\n",
            "4500/4500 - 12s - loss: 0.5480 - accuracy: 0.7202 - val_loss: 0.5530 - val_accuracy: 0.7146\n",
            "Epoch 48/50\n",
            "4500/4500 - 12s - loss: 0.5481 - accuracy: 0.7203 - val_loss: 0.5545 - val_accuracy: 0.7151\n",
            "Epoch 49/50\n",
            "4500/4500 - 12s - loss: 0.5481 - accuracy: 0.7201 - val_loss: 0.5523 - val_accuracy: 0.7135\n",
            "Epoch 50/50\n",
            "4500/4500 - 12s - loss: 0.5476 - accuracy: 0.7206 - val_loss: 0.5533 - val_accuracy: 0.7151\n"
          ],
          "name": "stdout"
        }
      ]
    },
    {
      "cell_type": "code",
      "metadata": {
        "id": "6Lrh4XuJs8G9",
        "colab_type": "code",
        "colab": {
          "base_uri": "https://localhost:8080/",
          "height": 541
        },
        "outputId": "97c0d982-e4cf-47ba-ea2b-c9d027bd96ab"
      },
      "source": [
        "import matplotlib.pyplot as plt\n",
        "def plot_graphs(hist, string):\n",
        "    plt.plot(hist.history[string])\n",
        "    plt.plot(hist.history['val_' + string])\n",
        "    plt.xlabel(\"Epochs\")\n",
        "    plt.ylabel(string)\n",
        "    plt.legend([string, 'val_' + string])\n",
        "    plt.show()\n",
        "\n",
        "plot_graphs(history_0, \"accuracy\")\n",
        "plot_graphs(history_0, \"loss\")"
      ],
      "execution_count": 14,
      "outputs": [
        {
          "output_type": "display_data",
          "data": {
            "image/png": "[encoded data removed]",
            "text/plain": [
              "<Figure size 432x288 with 1 Axes>"
            ]
          },
          "metadata": {
            "tags": [],
            "needs_background": "light"
          }
        },
        {
          "output_type": "display_data",
          "data": {
            "image/png": "[encoded data removed]",
            "text/plain": [
              "<Figure size 432x288 with 1 Axes>"
            ]
          },
          "metadata": {
            "tags": [],
            "needs_background": "light"
          }
        }
      ]
    },
    {
      "cell_type": "markdown",
      "metadata": {
        "id": "r4Z-LSrceLnS",
        "colab_type": "text"
      },
      "source": [
        "The validation loss is actually NOT increasing here, which means that there is *NO LOSS OF confidence* in the predictions over the course of the epochs.\n",
        "\n",
        "**This is actually a good sign.**\n",
        "\n",
        "But it is quite evident that both the training & validation accuracy are not great.\n",
        "\n",
        "Now we'll try with LSTMs.\n",
        "\n",
        "There's no point in trying with a unidirectional LSTM here.\n",
        "This is because these are actual tweets and a Bidirectional is better suited to understand the context than a simple unidirectional one."
      ]
    },
    {
      "cell_type": "markdown",
      "metadata": {
        "id": "7w-0Uix_toR0",
        "colab_type": "text"
      },
      "source": [
        "**Model 1 : Embedding with 1 Bidirectional LSTM**"
      ]
    },
    {
      "cell_type": "code",
      "metadata": {
        "id": "Qy4SHGCStrxw",
        "colab_type": "code",
        "colab": {}
      },
      "source": [
        "model_1 = tf.keras.Sequential([\n",
        "      tf.keras.layers.Embedding(input_dim=vocab_size+1, \n",
        "                                output_dim=embedding_dim, \n",
        "                                input_length=max_length,\n",
        "                                weights=[embeddings_matrix],\n",
        "                                trainable=False),\n",
        "      tf.keras.layers.Bidirectional(tf.keras.layers.LSTM(16)),\n",
        "      tf.keras.layers.Dense(8, activation='relu'),\n",
        "      tf.keras.layers.Dense(1, activation='sigmoid')\n",
        "])\n",
        "\n",
        "model_1.compile(loss='binary_crossentropy', optimizer='adam', metrics=['accuracy'])\n",
        "model_1.summary()\n",
        "\n",
        "history_1 = model_1.fit(training_padded, training_labels, epochs=50, validation_data=(val_padded, val_labels), verbose=2)\n",
        "\n",
        "plot_graphs(history_1, \"accuracy\")\n",
        "plot_graphs(history_1, \"loss\")"
      ],
      "execution_count": null,
      "outputs": []
    },
    {
      "cell_type": "markdown",
      "metadata": {
        "id": "Izo-0vacgMJb",
        "colab_type": "text"
      },
      "source": [
        "We can always stack more Bidirectional LSTM layers on top of each other but **it won't really help our purpose**.\n",
        "\n",
        "This is because, stacking more layers will actually engender overfitting. This will ensure that the training accuracy reaches > 97% but **the validation loss will now increase**.\n",
        "i.e the confidence in validation predictions drop.\n",
        "\n",
        "Let's see whether GRU's can help us.\n",
        "(For the same reason cited above, we're not trying out unidirectional GRUs here)"
      ]
    },
    {
      "cell_type": "markdown",
      "metadata": {
        "id": "rpCRa5uBuM03",
        "colab_type": "text"
      },
      "source": [
        "**Model 2 : Embedding with 1 Bidirectional GRU**"
      ]
    },
    {
      "cell_type": "code",
      "metadata": {
        "id": "CuLPLeCiuQR4",
        "colab_type": "code",
        "colab": {
          "base_uri": "https://localhost:8080/",
          "height": 814
        },
        "outputId": "2beb3e99-8b4a-4af1-b4f3-0b6701d3f3d0"
      },
      "source": [
        "model_2 = tf.keras.Sequential([\n",
        "      tf.keras.layers.Embedding(input_dim=vocab_size+1, \n",
        "                                output_dim=embedding_dim, \n",
        "                                input_length=max_length,\n",
        "                                weights=[embeddings_matrix],\n",
        "                                trainable=False),\n",
        "      tf.keras.layers.Bidirectional(tf.keras.layers.GRU(16)),\n",
        "      tf.keras.layers.Dense(8, activation='relu'),\n",
        "      tf.keras.layers.Dense(1, activation='sigmoid')\n",
        "])\n",
        "\n",
        "model_2.compile(loss='binary_crossentropy', optimizer='adam', metrics=['accuracy'])\n",
        "model_2.summary()\n",
        "\n",
        "history_2 = model_2.fit(training_padded, training_labels, epochs=50, validation_data=(val_padded, val_labels), verbose=2)\n",
        "\n",
        "plot_graphs(history_2, \"accuracy\")\n",
        "plot_graphs(history_2, \"loss\")"
      ],
      "execution_count": 21,
      "outputs": [
        {
          "output_type": "stream",
          "text": [
            "Model: \"sequential_7\"\n",
            "_________________________________________________________________\n",
            "Layer (type)                 Output Shape              Param #   \n",
            "=================================================================\n",
            "embedding_7 (Embedding)      (None, 64, 100)           13842400  \n",
            "_________________________________________________________________\n",
            "bidirectional_5 (Bidirection (None, 32)                11328     \n",
            "_________________________________________________________________\n",
            "dense_14 (Dense)             (None, 8)                 264       \n",
            "_________________________________________________________________\n",
            "dense_15 (Dense)             (None, 1)                 9         \n",
            "=================================================================\n",
            "Total params: 13,854,001\n",
            "Trainable params: 11,601\n",
            "Non-trainable params: 13,842,400\n",
            "_________________________________________________________________\n",
            "Epoch 1/50\n",
            "WARNING:tensorflow:Callbacks method `on_train_batch_end` is slow compared to the batch time (batch time: 0.0076s vs `on_train_batch_end` time: 0.0226s). Check your callbacks.\n",
            "4500/4500 - 135s - loss: 0.5371 - accuracy: 0.7257 - val_loss: 0.4982 - val_accuracy: 0.7559\n",
            "Epoch 2/50\n",
            "4500/4500 - 135s - loss: 0.4840 - accuracy: 0.7660 - val_loss: 0.4764 - val_accuracy: 0.7699\n",
            "Epoch 3/50\n"
          ],
          "name": "stdout"
        },
        {
          "output_type": "error",
          "ename": "KeyboardInterrupt",
          "evalue": "ignored",
          "traceback": [
            "\u001b[0;31m---------------------------------------------------------------------------\u001b[0m",
            "\u001b[0;31mKeyboardInterrupt\u001b[0m                         Traceback (most recent call last)",
            "\u001b[0;32m<ipython-input-21-6fece4e93f9d>\u001b[0m in \u001b[0;36m<module>\u001b[0;34m()\u001b[0m\n\u001b[1;32m     13\u001b[0m \u001b[0mmodel_2\u001b[0m\u001b[0;34m.\u001b[0m\u001b[0msummary\u001b[0m\u001b[0;34m(\u001b[0m\u001b[0;34m)\u001b[0m\u001b[0;34m\u001b[0m\u001b[0;34m\u001b[0m\u001b[0m\n\u001b[1;32m     14\u001b[0m \u001b[0;34m\u001b[0m\u001b[0m\n\u001b[0;32m---> 15\u001b[0;31m \u001b[0mhistory_2\u001b[0m \u001b[0;34m=\u001b[0m \u001b[0mmodel_2\u001b[0m\u001b[0;34m.\u001b[0m\u001b[0mfit\u001b[0m\u001b[0;34m(\u001b[0m\u001b[0mtraining_padded\u001b[0m\u001b[0;34m,\u001b[0m \u001b[0mtraining_labels\u001b[0m\u001b[0;34m,\u001b[0m \u001b[0mepochs\u001b[0m\u001b[0;34m=\u001b[0m\u001b[0;36m50\u001b[0m\u001b[0;34m,\u001b[0m \u001b[0mvalidation_data\u001b[0m\u001b[0;34m=\u001b[0m\u001b[0;34m(\u001b[0m\u001b[0mval_padded\u001b[0m\u001b[0;34m,\u001b[0m \u001b[0mval_labels\u001b[0m\u001b[0;34m)\u001b[0m\u001b[0;34m,\u001b[0m \u001b[0mverbose\u001b[0m\u001b[0;34m=\u001b[0m\u001b[0;36m2\u001b[0m\u001b[0;34m)\u001b[0m\u001b[0;34m\u001b[0m\u001b[0;34m\u001b[0m\u001b[0m\n\u001b[0m\u001b[1;32m     16\u001b[0m \u001b[0;34m\u001b[0m\u001b[0m\n\u001b[1;32m     17\u001b[0m \u001b[0mplot_graphs\u001b[0m\u001b[0;34m(\u001b[0m\u001b[0mhistory_2\u001b[0m\u001b[0;34m,\u001b[0m \u001b[0;34m\"accuracy\"\u001b[0m\u001b[0;34m)\u001b[0m\u001b[0;34m\u001b[0m\u001b[0;34m\u001b[0m\u001b[0m\n",
            "\u001b[0;32m/usr/local/lib/python3.6/dist-packages/tensorflow/python/keras/engine/training.py\u001b[0m in \u001b[0;36m_method_wrapper\u001b[0;34m(self, *args, **kwargs)\u001b[0m\n\u001b[1;32m    106\u001b[0m   \u001b[0;32mdef\u001b[0m \u001b[0m_method_wrapper\u001b[0m\u001b[0;34m(\u001b[0m\u001b[0mself\u001b[0m\u001b[0;34m,\u001b[0m \u001b[0;34m*\u001b[0m\u001b[0margs\u001b[0m\u001b[0;34m,\u001b[0m \u001b[0;34m**\u001b[0m\u001b[0mkwargs\u001b[0m\u001b[0;34m)\u001b[0m\u001b[0;34m:\u001b[0m\u001b[0;34m\u001b[0m\u001b[0;34m\u001b[0m\u001b[0m\n\u001b[1;32m    107\u001b[0m     \u001b[0;32mif\u001b[0m \u001b[0;32mnot\u001b[0m \u001b[0mself\u001b[0m\u001b[0;34m.\u001b[0m\u001b[0m_in_multi_worker_mode\u001b[0m\u001b[0;34m(\u001b[0m\u001b[0;34m)\u001b[0m\u001b[0;34m:\u001b[0m  \u001b[0;31m# pylint: disable=protected-access\u001b[0m\u001b[0;34m\u001b[0m\u001b[0;34m\u001b[0m\u001b[0m\n\u001b[0;32m--> 108\u001b[0;31m       \u001b[0;32mreturn\u001b[0m \u001b[0mmethod\u001b[0m\u001b[0;34m(\u001b[0m\u001b[0mself\u001b[0m\u001b[0;34m,\u001b[0m \u001b[0;34m*\u001b[0m\u001b[0margs\u001b[0m\u001b[0;34m,\u001b[0m \u001b[0;34m**\u001b[0m\u001b[0mkwargs\u001b[0m\u001b[0;34m)\u001b[0m\u001b[0;34m\u001b[0m\u001b[0;34m\u001b[0m\u001b[0m\n\u001b[0m\u001b[1;32m    109\u001b[0m \u001b[0;34m\u001b[0m\u001b[0m\n\u001b[1;32m    110\u001b[0m     \u001b[0;31m# Running inside `run_distribute_coordinator` already.\u001b[0m\u001b[0;34m\u001b[0m\u001b[0;34m\u001b[0m\u001b[0;34m\u001b[0m\u001b[0m\n",
            "\u001b[0;32m/usr/local/lib/python3.6/dist-packages/tensorflow/python/keras/engine/training.py\u001b[0m in \u001b[0;36mfit\u001b[0;34m(self, x, y, batch_size, epochs, verbose, callbacks, validation_split, validation_data, shuffle, class_weight, sample_weight, initial_epoch, steps_per_epoch, validation_steps, validation_batch_size, validation_freq, max_queue_size, workers, use_multiprocessing)\u001b[0m\n\u001b[1;32m   1096\u001b[0m                 batch_size=batch_size):\n\u001b[1;32m   1097\u001b[0m               \u001b[0mcallbacks\u001b[0m\u001b[0;34m.\u001b[0m\u001b[0mon_train_batch_begin\u001b[0m\u001b[0;34m(\u001b[0m\u001b[0mstep\u001b[0m\u001b[0;34m)\u001b[0m\u001b[0;34m\u001b[0m\u001b[0;34m\u001b[0m\u001b[0m\n\u001b[0;32m-> 1098\u001b[0;31m               \u001b[0mtmp_logs\u001b[0m \u001b[0;34m=\u001b[0m \u001b[0mtrain_function\u001b[0m\u001b[0;34m(\u001b[0m\u001b[0miterator\u001b[0m\u001b[0;34m)\u001b[0m\u001b[0;34m\u001b[0m\u001b[0;34m\u001b[0m\u001b[0m\n\u001b[0m\u001b[1;32m   1099\u001b[0m               \u001b[0;32mif\u001b[0m \u001b[0mdata_handler\u001b[0m\u001b[0;34m.\u001b[0m\u001b[0mshould_sync\u001b[0m\u001b[0;34m:\u001b[0m\u001b[0;34m\u001b[0m\u001b[0;34m\u001b[0m\u001b[0m\n\u001b[1;32m   1100\u001b[0m                 \u001b[0mcontext\u001b[0m\u001b[0;34m.\u001b[0m\u001b[0masync_wait\u001b[0m\u001b[0;34m(\u001b[0m\u001b[0;34m)\u001b[0m\u001b[0;34m\u001b[0m\u001b[0;34m\u001b[0m\u001b[0m\n",
            "\u001b[0;32m/usr/local/lib/python3.6/dist-packages/tensorflow/python/eager/def_function.py\u001b[0m in \u001b[0;36m__call__\u001b[0;34m(self, *args, **kwds)\u001b[0m\n\u001b[1;32m    778\u001b[0m       \u001b[0;32melse\u001b[0m\u001b[0;34m:\u001b[0m\u001b[0;34m\u001b[0m\u001b[0;34m\u001b[0m\u001b[0m\n\u001b[1;32m    779\u001b[0m         \u001b[0mcompiler\u001b[0m \u001b[0;34m=\u001b[0m \u001b[0;34m\"nonXla\"\u001b[0m\u001b[0;34m\u001b[0m\u001b[0;34m\u001b[0m\u001b[0m\n\u001b[0;32m--> 780\u001b[0;31m         \u001b[0mresult\u001b[0m \u001b[0;34m=\u001b[0m \u001b[0mself\u001b[0m\u001b[0;34m.\u001b[0m\u001b[0m_call\u001b[0m\u001b[0;34m(\u001b[0m\u001b[0;34m*\u001b[0m\u001b[0margs\u001b[0m\u001b[0;34m,\u001b[0m \u001b[0;34m**\u001b[0m\u001b[0mkwds\u001b[0m\u001b[0;34m)\u001b[0m\u001b[0;34m\u001b[0m\u001b[0;34m\u001b[0m\u001b[0m\n\u001b[0m\u001b[1;32m    781\u001b[0m \u001b[0;34m\u001b[0m\u001b[0m\n\u001b[1;32m    782\u001b[0m       \u001b[0mnew_tracing_count\u001b[0m \u001b[0;34m=\u001b[0m \u001b[0mself\u001b[0m\u001b[0;34m.\u001b[0m\u001b[0m_get_tracing_count\u001b[0m\u001b[0;34m(\u001b[0m\u001b[0;34m)\u001b[0m\u001b[0;34m\u001b[0m\u001b[0;34m\u001b[0m\u001b[0m\n",
            "\u001b[0;32m/usr/local/lib/python3.6/dist-packages/tensorflow/python/eager/def_function.py\u001b[0m in \u001b[0;36m_call\u001b[0;34m(self, *args, **kwds)\u001b[0m\n\u001b[1;32m    805\u001b[0m       \u001b[0;31m# In this case we have created variables on the first call, so we run the\u001b[0m\u001b[0;34m\u001b[0m\u001b[0;34m\u001b[0m\u001b[0;34m\u001b[0m\u001b[0m\n\u001b[1;32m    806\u001b[0m       \u001b[0;31m# defunned version which is guaranteed to never create variables.\u001b[0m\u001b[0;34m\u001b[0m\u001b[0;34m\u001b[0m\u001b[0;34m\u001b[0m\u001b[0m\n\u001b[0;32m--> 807\u001b[0;31m       \u001b[0;32mreturn\u001b[0m \u001b[0mself\u001b[0m\u001b[0;34m.\u001b[0m\u001b[0m_stateless_fn\u001b[0m\u001b[0;34m(\u001b[0m\u001b[0;34m*\u001b[0m\u001b[0margs\u001b[0m\u001b[0;34m,\u001b[0m \u001b[0;34m**\u001b[0m\u001b[0mkwds\u001b[0m\u001b[0;34m)\u001b[0m  \u001b[0;31m# pylint: disable=not-callable\u001b[0m\u001b[0;34m\u001b[0m\u001b[0;34m\u001b[0m\u001b[0m\n\u001b[0m\u001b[1;32m    808\u001b[0m     \u001b[0;32melif\u001b[0m \u001b[0mself\u001b[0m\u001b[0;34m.\u001b[0m\u001b[0m_stateful_fn\u001b[0m \u001b[0;32mis\u001b[0m \u001b[0;32mnot\u001b[0m \u001b[0;32mNone\u001b[0m\u001b[0;34m:\u001b[0m\u001b[0;34m\u001b[0m\u001b[0;34m\u001b[0m\u001b[0m\n\u001b[1;32m    809\u001b[0m       \u001b[0;31m# Release the lock early so that multiple threads can perform the call\u001b[0m\u001b[0;34m\u001b[0m\u001b[0;34m\u001b[0m\u001b[0;34m\u001b[0m\u001b[0m\n",
            "\u001b[0;32m/usr/local/lib/python3.6/dist-packages/tensorflow/python/eager/function.py\u001b[0m in \u001b[0;36m__call__\u001b[0;34m(self, *args, **kwargs)\u001b[0m\n\u001b[1;32m   2827\u001b[0m     \u001b[0;32mwith\u001b[0m \u001b[0mself\u001b[0m\u001b[0;34m.\u001b[0m\u001b[0m_lock\u001b[0m\u001b[0;34m:\u001b[0m\u001b[0;34m\u001b[0m\u001b[0;34m\u001b[0m\u001b[0m\n\u001b[1;32m   2828\u001b[0m       \u001b[0mgraph_function\u001b[0m\u001b[0;34m,\u001b[0m \u001b[0margs\u001b[0m\u001b[0;34m,\u001b[0m \u001b[0mkwargs\u001b[0m \u001b[0;34m=\u001b[0m \u001b[0mself\u001b[0m\u001b[0;34m.\u001b[0m\u001b[0m_maybe_define_function\u001b[0m\u001b[0;34m(\u001b[0m\u001b[0margs\u001b[0m\u001b[0;34m,\u001b[0m \u001b[0mkwargs\u001b[0m\u001b[0;34m)\u001b[0m\u001b[0;34m\u001b[0m\u001b[0;34m\u001b[0m\u001b[0m\n\u001b[0;32m-> 2829\u001b[0;31m     \u001b[0;32mreturn\u001b[0m \u001b[0mgraph_function\u001b[0m\u001b[0;34m.\u001b[0m\u001b[0m_filtered_call\u001b[0m\u001b[0;34m(\u001b[0m\u001b[0margs\u001b[0m\u001b[0;34m,\u001b[0m \u001b[0mkwargs\u001b[0m\u001b[0;34m)\u001b[0m  \u001b[0;31m# pylint: disable=protected-access\u001b[0m\u001b[0;34m\u001b[0m\u001b[0;34m\u001b[0m\u001b[0m\n\u001b[0m\u001b[1;32m   2830\u001b[0m \u001b[0;34m\u001b[0m\u001b[0m\n\u001b[1;32m   2831\u001b[0m   \u001b[0;34m@\u001b[0m\u001b[0mproperty\u001b[0m\u001b[0;34m\u001b[0m\u001b[0;34m\u001b[0m\u001b[0m\n",
            "\u001b[0;32m/usr/local/lib/python3.6/dist-packages/tensorflow/python/eager/function.py\u001b[0m in \u001b[0;36m_filtered_call\u001b[0;34m(self, args, kwargs, cancellation_manager)\u001b[0m\n\u001b[1;32m   1846\u001b[0m                            resource_variable_ops.BaseResourceVariable))],\n\u001b[1;32m   1847\u001b[0m         \u001b[0mcaptured_inputs\u001b[0m\u001b[0;34m=\u001b[0m\u001b[0mself\u001b[0m\u001b[0;34m.\u001b[0m\u001b[0mcaptured_inputs\u001b[0m\u001b[0;34m,\u001b[0m\u001b[0;34m\u001b[0m\u001b[0;34m\u001b[0m\u001b[0m\n\u001b[0;32m-> 1848\u001b[0;31m         cancellation_manager=cancellation_manager)\n\u001b[0m\u001b[1;32m   1849\u001b[0m \u001b[0;34m\u001b[0m\u001b[0m\n\u001b[1;32m   1850\u001b[0m   \u001b[0;32mdef\u001b[0m \u001b[0m_call_flat\u001b[0m\u001b[0;34m(\u001b[0m\u001b[0mself\u001b[0m\u001b[0;34m,\u001b[0m \u001b[0margs\u001b[0m\u001b[0;34m,\u001b[0m \u001b[0mcaptured_inputs\u001b[0m\u001b[0;34m,\u001b[0m \u001b[0mcancellation_manager\u001b[0m\u001b[0;34m=\u001b[0m\u001b[0;32mNone\u001b[0m\u001b[0;34m)\u001b[0m\u001b[0;34m:\u001b[0m\u001b[0;34m\u001b[0m\u001b[0;34m\u001b[0m\u001b[0m\n",
            "\u001b[0;32m/usr/local/lib/python3.6/dist-packages/tensorflow/python/eager/function.py\u001b[0m in \u001b[0;36m_call_flat\u001b[0;34m(self, args, captured_inputs, cancellation_manager)\u001b[0m\n\u001b[1;32m   1922\u001b[0m       \u001b[0;31m# No tape is watching; skip to running the function.\u001b[0m\u001b[0;34m\u001b[0m\u001b[0;34m\u001b[0m\u001b[0;34m\u001b[0m\u001b[0m\n\u001b[1;32m   1923\u001b[0m       return self._build_call_outputs(self._inference_function.call(\n\u001b[0;32m-> 1924\u001b[0;31m           ctx, args, cancellation_manager=cancellation_manager))\n\u001b[0m\u001b[1;32m   1925\u001b[0m     forward_backward = self._select_forward_and_backward_functions(\n\u001b[1;32m   1926\u001b[0m         \u001b[0margs\u001b[0m\u001b[0;34m,\u001b[0m\u001b[0;34m\u001b[0m\u001b[0;34m\u001b[0m\u001b[0m\n",
            "\u001b[0;32m/usr/local/lib/python3.6/dist-packages/tensorflow/python/eager/function.py\u001b[0m in \u001b[0;36mcall\u001b[0;34m(self, ctx, args, cancellation_manager)\u001b[0m\n\u001b[1;32m    548\u001b[0m               \u001b[0minputs\u001b[0m\u001b[0;34m=\u001b[0m\u001b[0margs\u001b[0m\u001b[0;34m,\u001b[0m\u001b[0;34m\u001b[0m\u001b[0;34m\u001b[0m\u001b[0m\n\u001b[1;32m    549\u001b[0m               \u001b[0mattrs\u001b[0m\u001b[0;34m=\u001b[0m\u001b[0mattrs\u001b[0m\u001b[0;34m,\u001b[0m\u001b[0;34m\u001b[0m\u001b[0;34m\u001b[0m\u001b[0m\n\u001b[0;32m--> 550\u001b[0;31m               ctx=ctx)\n\u001b[0m\u001b[1;32m    551\u001b[0m         \u001b[0;32melse\u001b[0m\u001b[0;34m:\u001b[0m\u001b[0;34m\u001b[0m\u001b[0;34m\u001b[0m\u001b[0m\n\u001b[1;32m    552\u001b[0m           outputs = execute.execute_with_cancellation(\n",
            "\u001b[0;32m/usr/local/lib/python3.6/dist-packages/tensorflow/python/eager/execute.py\u001b[0m in \u001b[0;36mquick_execute\u001b[0;34m(op_name, num_outputs, inputs, attrs, ctx, name)\u001b[0m\n\u001b[1;32m     58\u001b[0m     \u001b[0mctx\u001b[0m\u001b[0;34m.\u001b[0m\u001b[0mensure_initialized\u001b[0m\u001b[0;34m(\u001b[0m\u001b[0;34m)\u001b[0m\u001b[0;34m\u001b[0m\u001b[0;34m\u001b[0m\u001b[0m\n\u001b[1;32m     59\u001b[0m     tensors = pywrap_tfe.TFE_Py_Execute(ctx._handle, device_name, op_name,\n\u001b[0;32m---> 60\u001b[0;31m                                         inputs, attrs, num_outputs)\n\u001b[0m\u001b[1;32m     61\u001b[0m   \u001b[0;32mexcept\u001b[0m \u001b[0mcore\u001b[0m\u001b[0;34m.\u001b[0m\u001b[0m_NotOkStatusException\u001b[0m \u001b[0;32mas\u001b[0m \u001b[0me\u001b[0m\u001b[0;34m:\u001b[0m\u001b[0;34m\u001b[0m\u001b[0;34m\u001b[0m\u001b[0m\n\u001b[1;32m     62\u001b[0m     \u001b[0;32mif\u001b[0m \u001b[0mname\u001b[0m \u001b[0;32mis\u001b[0m \u001b[0;32mnot\u001b[0m \u001b[0;32mNone\u001b[0m\u001b[0;34m:\u001b[0m\u001b[0;34m\u001b[0m\u001b[0;34m\u001b[0m\u001b[0m\n",
            "\u001b[0;31mKeyboardInterrupt\u001b[0m: "
          ]
        }
      ]
    },
    {
      "cell_type": "markdown",
      "metadata": {
        "id": "QlxS26ARhMgh",
        "colab_type": "text"
      },
      "source": [
        "Let's now try with only 1 pair of Conv1D & MaxPooling1D layers."
      ]
    },
    {
      "cell_type": "markdown",
      "metadata": {
        "id": "t_ymHUM7usyk",
        "colab_type": "text"
      },
      "source": [
        "**Model 3 : Embedding with 1 Conv1D and 1 MaxPooling1D layer**"
      ]
    },
    {
      "cell_type": "code",
      "metadata": {
        "id": "MNGMYTTguv2i",
        "colab_type": "code",
        "colab": {
          "base_uri": "https://localhost:8080/",
          "height": 1000
        },
        "outputId": "b052b5b7-02bf-4c47-ae75-8e7525df6f9d"
      },
      "source": [
        "model_3 = tf.keras.Sequential([\n",
        "      tf.keras.layers.Embedding(input_dim=vocab_size+1, \n",
        "                                output_dim=embedding_dim, \n",
        "                                input_length=max_length,\n",
        "                                weights=[embeddings_matrix],\n",
        "                                trainable=False),\n",
        "      tf.keras.layers.Conv1D(64, 5, activation='relu'),\n",
        "      tf.keras.layers.MaxPooling1D(pool_size=4),\n",
        "      tf.keras.layers.Dense(8, activation='relu'),\n",
        "      tf.keras.layers.Dense(1, activation='sigmoid')\n",
        "])\n",
        "\n",
        "model_3.compile(loss='binary_crossentropy', optimizer='adam', metrics=['accuracy'])\n",
        "model_3.summary()\n",
        "\n",
        "history_3 = model_3.fit(training_padded, training_labels, epochs=50, validation_data=(val_padded, val_labels))\n",
        "\n",
        "plot_graphs(history_3, \"accuracy\")\n",
        "plot_graphs(history_3, \"loss\")"
      ],
      "execution_count": 16,
      "outputs": [
        {
          "output_type": "stream",
          "text": [
            "Model: \"sequential_2\"\n",
            "_________________________________________________________________\n",
            "Layer (type)                 Output Shape              Param #   \n",
            "=================================================================\n",
            "embedding_2 (Embedding)      (None, 64, 100)           13842400  \n",
            "_________________________________________________________________\n",
            "conv1d (Conv1D)              (None, 60, 64)            32064     \n",
            "_________________________________________________________________\n",
            "max_pooling1d (MaxPooling1D) (None, 15, 64)            0         \n",
            "_________________________________________________________________\n",
            "dense_4 (Dense)              (None, 15, 8)             520       \n",
            "_________________________________________________________________\n",
            "dense_5 (Dense)              (None, 15, 1)             9         \n",
            "=================================================================\n",
            "Total params: 13,874,993\n",
            "Trainable params: 32,593\n",
            "Non-trainable params: 13,842,400\n",
            "_________________________________________________________________\n",
            "Epoch 1/50\n",
            "4500/4500 [==============================] - 18s 4ms/step - loss: 0.6759 - accuracy: 0.5363 - val_loss: 0.6730 - val_accuracy: 0.5448\n",
            "Epoch 2/50\n",
            "4500/4500 [==============================] - 18s 4ms/step - loss: 0.6707 - accuracy: 0.5422 - val_loss: 0.6710 - val_accuracy: 0.5471\n",
            "Epoch 3/50\n",
            "4500/4500 [==============================] - 18s 4ms/step - loss: 0.6681 - accuracy: 0.5453 - val_loss: 0.6722 - val_accuracy: 0.5463\n",
            "Epoch 4/50\n",
            "4500/4500 [==============================] - 18s 4ms/step - loss: 0.6666 - accuracy: 0.5465 - val_loss: 0.6698 - val_accuracy: 0.5481\n",
            "Epoch 5/50\n",
            "4500/4500 [==============================] - 18s 4ms/step - loss: 0.6651 - accuracy: 0.5481 - val_loss: 0.6698 - val_accuracy: 0.5485\n",
            "Epoch 6/50\n",
            "4500/4500 [==============================] - 18s 4ms/step - loss: 0.6642 - accuracy: 0.5479 - val_loss: 0.6697 - val_accuracy: 0.5485\n",
            "Epoch 7/50\n",
            "4500/4500 [==============================] - 18s 4ms/step - loss: 0.6632 - accuracy: 0.5503 - val_loss: 0.6716 - val_accuracy: 0.5366\n",
            "Epoch 8/50\n",
            "4500/4500 [==============================] - 18s 4ms/step - loss: 0.6625 - accuracy: 0.5501 - val_loss: 0.6722 - val_accuracy: 0.5364\n",
            "Epoch 9/50\n",
            "4500/4500 [==============================] - 18s 4ms/step - loss: 0.6618 - accuracy: 0.5500 - val_loss: 0.6708 - val_accuracy: 0.5485\n",
            "Epoch 10/50\n",
            "4500/4500 [==============================] - 18s 4ms/step - loss: 0.6612 - accuracy: 0.5519 - val_loss: 0.6702 - val_accuracy: 0.5483\n",
            "Epoch 11/50\n",
            "4500/4500 [==============================] - 18s 4ms/step - loss: 0.6605 - accuracy: 0.5512 - val_loss: 0.6716 - val_accuracy: 0.5366\n",
            "Epoch 12/50\n",
            "4500/4500 [==============================] - 18s 4ms/step - loss: 0.6601 - accuracy: 0.5502 - val_loss: 0.6713 - val_accuracy: 0.5482\n",
            "Epoch 13/50\n",
            "4500/4500 [==============================] - 18s 4ms/step - loss: 0.6595 - accuracy: 0.5529 - val_loss: 0.6721 - val_accuracy: 0.5478\n",
            "Epoch 14/50\n",
            "4500/4500 [==============================] - 20s 4ms/step - loss: 0.6592 - accuracy: 0.5537 - val_loss: 0.6731 - val_accuracy: 0.5482\n",
            "Epoch 15/50\n",
            "4500/4500 [==============================] - 18s 4ms/step - loss: 0.6588 - accuracy: 0.5537 - val_loss: 0.6719 - val_accuracy: 0.5366\n",
            "Epoch 16/50\n",
            "4500/4500 [==============================] - 18s 4ms/step - loss: 0.6584 - accuracy: 0.5537 - val_loss: 0.6732 - val_accuracy: 0.5370\n",
            "Epoch 17/50\n",
            "4500/4500 [==============================] - 19s 4ms/step - loss: 0.6581 - accuracy: 0.5517 - val_loss: 0.6736 - val_accuracy: 0.5475\n",
            "Epoch 18/50\n",
            "4500/4500 [==============================] - 18s 4ms/step - loss: 0.6577 - accuracy: 0.5544 - val_loss: 0.6723 - val_accuracy: 0.5469\n",
            "Epoch 19/50\n",
            "4500/4500 [==============================] - 18s 4ms/step - loss: 0.6574 - accuracy: 0.5542 - val_loss: 0.6731 - val_accuracy: 0.5477\n",
            "Epoch 20/50\n",
            "4500/4500 [==============================] - 19s 4ms/step - loss: 0.6572 - accuracy: 0.5549 - val_loss: 0.6733 - val_accuracy: 0.5473\n",
            "Epoch 21/50\n",
            "4500/4500 [==============================] - 19s 4ms/step - loss: 0.6569 - accuracy: 0.5533 - val_loss: 0.6728 - val_accuracy: 0.5475\n",
            "Epoch 22/50\n",
            "4500/4500 [==============================] - 19s 4ms/step - loss: 0.6567 - accuracy: 0.5561 - val_loss: 0.6752 - val_accuracy: 0.5363\n",
            "Epoch 23/50\n",
            "4500/4500 [==============================] - 19s 4ms/step - loss: 0.6564 - accuracy: 0.5551 - val_loss: 0.6735 - val_accuracy: 0.5472\n",
            "Epoch 24/50\n",
            "4500/4500 [==============================] - 19s 4ms/step - loss: 0.6563 - accuracy: 0.5551 - val_loss: 0.6733 - val_accuracy: 0.5471\n",
            "Epoch 25/50\n",
            "4500/4500 [==============================] - 19s 4ms/step - loss: 0.6560 - accuracy: 0.5567 - val_loss: 0.6766 - val_accuracy: 0.5459\n",
            "Epoch 26/50\n",
            "4500/4500 [==============================] - 18s 4ms/step - loss: 0.6558 - accuracy: 0.5554 - val_loss: 0.6758 - val_accuracy: 0.5360\n",
            "Epoch 27/50\n",
            "4500/4500 [==============================] - 18s 4ms/step - loss: 0.6556 - accuracy: 0.5554 - val_loss: 0.6754 - val_accuracy: 0.5364\n",
            "Epoch 28/50\n",
            "4500/4500 [==============================] - 18s 4ms/step - loss: 0.6554 - accuracy: 0.5573 - val_loss: 0.6744 - val_accuracy: 0.5359\n",
            "Epoch 29/50\n",
            "4500/4500 [==============================] - 18s 4ms/step - loss: 0.6552 - accuracy: 0.5559 - val_loss: 0.6739 - val_accuracy: 0.5462\n",
            "Epoch 30/50\n",
            "4500/4500 [==============================] - 18s 4ms/step - loss: 0.6552 - accuracy: 0.5558 - val_loss: 0.6760 - val_accuracy: 0.5462\n",
            "Epoch 31/50\n",
            "4500/4500 [==============================] - 18s 4ms/step - loss: 0.6549 - accuracy: 0.5563 - val_loss: 0.6756 - val_accuracy: 0.5463\n",
            "Epoch 32/50\n",
            "4500/4500 [==============================] - 18s 4ms/step - loss: 0.6548 - accuracy: 0.5571 - val_loss: 0.6785 - val_accuracy: 0.5342\n",
            "Epoch 33/50\n",
            "4500/4500 [==============================] - 18s 4ms/step - loss: 0.6545 - accuracy: 0.5566 - val_loss: 0.6763 - val_accuracy: 0.5467\n",
            "Epoch 34/50\n",
            "4500/4500 [==============================] - 19s 4ms/step - loss: 0.6545 - accuracy: 0.5572 - val_loss: 0.6765 - val_accuracy: 0.5468\n",
            "Epoch 35/50\n",
            "4500/4500 [==============================] - 18s 4ms/step - loss: 0.6542 - accuracy: 0.5578 - val_loss: 0.6798 - val_accuracy: 0.5453\n",
            "Epoch 36/50\n",
            "4500/4500 [==============================] - 18s 4ms/step - loss: 0.6541 - accuracy: 0.5568 - val_loss: 0.6770 - val_accuracy: 0.5464\n",
            "Epoch 37/50\n",
            "4500/4500 [==============================] - 18s 4ms/step - loss: 0.6540 - accuracy: 0.5565 - val_loss: 0.6756 - val_accuracy: 0.5464\n",
            "Epoch 38/50\n",
            "4500/4500 [==============================] - 18s 4ms/step - loss: 0.6539 - accuracy: 0.5568 - val_loss: 0.6770 - val_accuracy: 0.5463\n",
            "Epoch 39/50\n",
            "4500/4500 [==============================] - 18s 4ms/step - loss: 0.6538 - accuracy: 0.5563 - val_loss: 0.6762 - val_accuracy: 0.5465\n",
            "Epoch 40/50\n",
            "4500/4500 [==============================] - 18s 4ms/step - loss: 0.6537 - accuracy: 0.5567 - val_loss: 0.6771 - val_accuracy: 0.5466\n",
            "Epoch 41/50\n",
            "4500/4500 [==============================] - 18s 4ms/step - loss: 0.6535 - accuracy: 0.5568 - val_loss: 0.6782 - val_accuracy: 0.5467\n",
            "Epoch 42/50\n",
            "4500/4500 [==============================] - 18s 4ms/step - loss: 0.6535 - accuracy: 0.5564 - val_loss: 0.6779 - val_accuracy: 0.5463\n",
            "Epoch 43/50\n",
            "4500/4500 [==============================] - 18s 4ms/step - loss: 0.6533 - accuracy: 0.5577 - val_loss: 0.6774 - val_accuracy: 0.5465\n",
            "Epoch 44/50\n",
            "4500/4500 [==============================] - 18s 4ms/step - loss: 0.6533 - accuracy: 0.5572 - val_loss: 0.6771 - val_accuracy: 0.5464\n",
            "Epoch 45/50\n",
            "4500/4500 [==============================] - 18s 4ms/step - loss: 0.6531 - accuracy: 0.5570 - val_loss: 0.6786 - val_accuracy: 0.5466\n",
            "Epoch 46/50\n",
            "4500/4500 [==============================] - 18s 4ms/step - loss: 0.6529 - accuracy: 0.5569 - val_loss: 0.6794 - val_accuracy: 0.5462\n",
            "Epoch 47/50\n",
            "4500/4500 [==============================] - 18s 4ms/step - loss: 0.6529 - accuracy: 0.5583 - val_loss: 0.6796 - val_accuracy: 0.5457\n",
            "Epoch 48/50\n",
            "4500/4500 [==============================] - 18s 4ms/step - loss: 0.6528 - accuracy: 0.5573 - val_loss: 0.6795 - val_accuracy: 0.5465\n",
            "Epoch 49/50\n",
            "4500/4500 [==============================] - 18s 4ms/step - loss: 0.6527 - accuracy: 0.5565 - val_loss: 0.6796 - val_accuracy: 0.5463\n",
            "Epoch 50/50\n",
            "4500/4500 [==============================] - 18s 4ms/step - loss: 0.6525 - accuracy: 0.5570 - val_loss: 0.6790 - val_accuracy: 0.5460\n"
          ],
          "name": "stdout"
        },
        {
          "output_type": "display_data",
          "data": {
            "image/png": "[encoded data removed]",
            "text/plain": [
              "<Figure size 432x288 with 1 Axes>"
            ]
          },
          "metadata": {
            "tags": [],
            "needs_background": "light"
          }
        },
        {
          "output_type": "display_data",
          "data": {
            "image/png": "[encoded data removed]",
            "text/plain": [
              "<Figure size 432x288 with 1 Axes>"
            ]
          },
          "metadata": {
            "tags": [],
            "needs_background": "light"
          }
        }
      ]
    },
    {
      "cell_type": "markdown",
      "metadata": {
        "id": "7p3YRkCYoMBB",
        "colab_type": "text"
      },
      "source": [
        "**Model 4: Embedding with 1 set of Conv1D & MaxPooling1D with 1 Bidirectional LSTM**"
      ]
    },
    {
      "cell_type": "code",
      "metadata": {
        "id": "BpjVdNo-oUke",
        "colab_type": "code",
        "colab": {
          "base_uri": "https://localhost:8080/",
          "height": 1000
        },
        "outputId": "8688d800-f056-4e09-bc30-02c320c9eea3"
      },
      "source": [
        "model_4 = tf.keras.Sequential([\n",
        "      tf.keras.layers.Embedding(input_dim=vocab_size+1, \n",
        "                                output_dim=embedding_dim, \n",
        "                                input_length=max_length,\n",
        "                                weights=[embeddings_matrix],\n",
        "                                trainable=False),\n",
        "      tf.keras.layers.Conv1D(64, 5, activation='relu'),\n",
        "      tf.keras.layers.MaxPooling1D(pool_size=4),\n",
        "      tf.keras.layers.Bidirectional(tf.keras.layers.LSTM(64)),\n",
        "      tf.keras.layers.Dense(8, activation='relu'),\n",
        "      tf.keras.layers.Dense(1, activation='sigmoid')\n",
        "])\n",
        "\n",
        "model_4.compile(loss='binary_crossentropy', optimizer='adam', metrics=['accuracy'])\n",
        "model_4.summary()\n",
        "\n",
        "history_4 = model_4.fit(training_padded, training_labels, epochs=50, validation_data=(val_padded, val_labels), verbose=2)\n",
        "\n",
        "plot_graphs(history_4, \"accuracy\")\n",
        "plot_graphs(history_4, \"loss\")"
      ],
      "execution_count": 19,
      "outputs": [
        {
          "output_type": "stream",
          "text": [
            "Model: \"sequential_5\"\n",
            "_________________________________________________________________\n",
            "Layer (type)                 Output Shape              Param #   \n",
            "=================================================================\n",
            "embedding_5 (Embedding)      (None, 64, 100)           13842400  \n",
            "_________________________________________________________________\n",
            "conv1d_3 (Conv1D)            (None, 60, 64)            32064     \n",
            "_________________________________________________________________\n",
            "max_pooling1d_3 (MaxPooling1 (None, 15, 64)            0         \n",
            "_________________________________________________________________\n",
            "bidirectional_3 (Bidirection (None, 128)               66048     \n",
            "_________________________________________________________________\n",
            "dense_10 (Dense)             (None, 8)                 1032      \n",
            "_________________________________________________________________\n",
            "dense_11 (Dense)             (None, 1)                 9         \n",
            "=================================================================\n",
            "Total params: 13,941,553\n",
            "Trainable params: 99,153\n",
            "Non-trainable params: 13,842,400\n",
            "_________________________________________________________________\n",
            "Epoch 1/50\n",
            "4500/4500 - 51s - loss: 0.5225 - accuracy: 0.7373 - val_loss: 0.4940 - val_accuracy: 0.7555\n",
            "Epoch 2/50\n",
            "4500/4500 - 51s - loss: 0.4705 - accuracy: 0.7741 - val_loss: 0.4884 - val_accuracy: 0.7634\n",
            "Epoch 3/50\n",
            "4500/4500 - 50s - loss: 0.4448 - accuracy: 0.7898 - val_loss: 0.4726 - val_accuracy: 0.7697\n",
            "Epoch 4/50\n",
            "4500/4500 - 50s - loss: 0.4236 - accuracy: 0.8026 - val_loss: 0.4765 - val_accuracy: 0.7719\n",
            "Epoch 5/50\n",
            "4500/4500 - 50s - loss: 0.4057 - accuracy: 0.8128 - val_loss: 0.4884 - val_accuracy: 0.7696\n",
            "Epoch 6/50\n",
            "4500/4500 - 51s - loss: 0.3894 - accuracy: 0.8217 - val_loss: 0.4857 - val_accuracy: 0.7703\n",
            "Epoch 7/50\n",
            "4500/4500 - 50s - loss: 0.3717 - accuracy: 0.8312 - val_loss: 0.4992 - val_accuracy: 0.7694\n",
            "Epoch 8/50\n",
            "4500/4500 - 50s - loss: 0.3550 - accuracy: 0.8402 - val_loss: 0.5118 - val_accuracy: 0.7650\n",
            "Epoch 9/50\n",
            "4500/4500 - 51s - loss: 0.3369 - accuracy: 0.8499 - val_loss: 0.5364 - val_accuracy: 0.7629\n",
            "Epoch 10/50\n",
            "4500/4500 - 50s - loss: 0.3190 - accuracy: 0.8588 - val_loss: 0.5513 - val_accuracy: 0.7620\n",
            "Epoch 11/50\n",
            "4500/4500 - 50s - loss: 0.3015 - accuracy: 0.8679 - val_loss: 0.5832 - val_accuracy: 0.7585\n",
            "Epoch 12/50\n",
            "4500/4500 - 50s - loss: 0.2829 - accuracy: 0.8772 - val_loss: 0.6156 - val_accuracy: 0.7577\n",
            "Epoch 13/50\n",
            "4500/4500 - 50s - loss: 0.2649 - accuracy: 0.8857 - val_loss: 0.6575 - val_accuracy: 0.7542\n",
            "Epoch 14/50\n",
            "4500/4500 - 51s - loss: 0.2496 - accuracy: 0.8918 - val_loss: 0.6668 - val_accuracy: 0.7468\n",
            "Epoch 15/50\n",
            "4500/4500 - 51s - loss: 0.2347 - accuracy: 0.8991 - val_loss: 0.6775 - val_accuracy: 0.7511\n",
            "Epoch 16/50\n",
            "4500/4500 - 51s - loss: 0.2214 - accuracy: 0.9057 - val_loss: 0.7505 - val_accuracy: 0.7452\n",
            "Epoch 17/50\n",
            "4500/4500 - 51s - loss: 0.2095 - accuracy: 0.9116 - val_loss: 0.7420 - val_accuracy: 0.7486\n",
            "Epoch 18/50\n",
            "4500/4500 - 51s - loss: 0.2004 - accuracy: 0.9152 - val_loss: 0.8042 - val_accuracy: 0.7465\n",
            "Epoch 19/50\n",
            "4500/4500 - 51s - loss: 0.1896 - accuracy: 0.9206 - val_loss: 0.8457 - val_accuracy: 0.7450\n",
            "Epoch 20/50\n",
            "4500/4500 - 51s - loss: 0.1828 - accuracy: 0.9231 - val_loss: 0.8582 - val_accuracy: 0.7429\n",
            "Epoch 21/50\n",
            "4500/4500 - 51s - loss: 0.1750 - accuracy: 0.9268 - val_loss: 0.8852 - val_accuracy: 0.7383\n",
            "Epoch 22/50\n",
            "4500/4500 - 51s - loss: 0.1671 - accuracy: 0.9307 - val_loss: 0.8964 - val_accuracy: 0.7426\n",
            "Epoch 23/50\n",
            "4500/4500 - 51s - loss: 0.1626 - accuracy: 0.9319 - val_loss: 0.9027 - val_accuracy: 0.7383\n",
            "Epoch 24/50\n",
            "4500/4500 - 51s - loss: 0.1581 - accuracy: 0.9341 - val_loss: 0.9516 - val_accuracy: 0.7383\n",
            "Epoch 25/50\n",
            "4500/4500 - 51s - loss: 0.1511 - accuracy: 0.9369 - val_loss: 1.0011 - val_accuracy: 0.7408\n",
            "Epoch 26/50\n",
            "4500/4500 - 51s - loss: 0.1477 - accuracy: 0.9391 - val_loss: 0.9848 - val_accuracy: 0.7424\n",
            "Epoch 27/50\n",
            "4500/4500 - 51s - loss: 0.1437 - accuracy: 0.9399 - val_loss: 0.9965 - val_accuracy: 0.7377\n",
            "Epoch 28/50\n",
            "4500/4500 - 51s - loss: 0.1395 - accuracy: 0.9424 - val_loss: 1.0340 - val_accuracy: 0.7370\n",
            "Epoch 29/50\n",
            "4500/4500 - 51s - loss: 0.1352 - accuracy: 0.9437 - val_loss: 1.0102 - val_accuracy: 0.7425\n",
            "Epoch 30/50\n",
            "4500/4500 - 51s - loss: 0.1333 - accuracy: 0.9452 - val_loss: 1.0472 - val_accuracy: 0.7426\n",
            "Epoch 31/50\n",
            "4500/4500 - 51s - loss: 0.1319 - accuracy: 0.9453 - val_loss: 1.0489 - val_accuracy: 0.7400\n",
            "Epoch 32/50\n",
            "4500/4500 - 51s - loss: 0.1281 - accuracy: 0.9475 - val_loss: 1.0603 - val_accuracy: 0.7417\n",
            "Epoch 33/50\n",
            "4500/4500 - 51s - loss: 0.1252 - accuracy: 0.9487 - val_loss: 1.0887 - val_accuracy: 0.7433\n",
            "Epoch 34/50\n",
            "4500/4500 - 51s - loss: 0.1253 - accuracy: 0.9487 - val_loss: 1.0865 - val_accuracy: 0.7389\n",
            "Epoch 35/50\n",
            "4500/4500 - 51s - loss: 0.1233 - accuracy: 0.9497 - val_loss: 1.1254 - val_accuracy: 0.7401\n",
            "Epoch 36/50\n",
            "4500/4500 - 51s - loss: 0.1197 - accuracy: 0.9508 - val_loss: 1.1475 - val_accuracy: 0.7410\n",
            "Epoch 37/50\n",
            "4500/4500 - 51s - loss: 0.1187 - accuracy: 0.9515 - val_loss: 1.1349 - val_accuracy: 0.7364\n",
            "Epoch 38/50\n",
            "4500/4500 - 51s - loss: 0.1180 - accuracy: 0.9517 - val_loss: 1.1548 - val_accuracy: 0.7390\n",
            "Epoch 39/50\n",
            "4500/4500 - 51s - loss: 0.1155 - accuracy: 0.9529 - val_loss: 1.1734 - val_accuracy: 0.7358\n",
            "Epoch 40/50\n",
            "4500/4500 - 51s - loss: 0.1135 - accuracy: 0.9539 - val_loss: 1.1909 - val_accuracy: 0.7351\n",
            "Epoch 41/50\n",
            "4500/4500 - 51s - loss: 0.1136 - accuracy: 0.9540 - val_loss: 1.1588 - val_accuracy: 0.7337\n",
            "Epoch 42/50\n",
            "4500/4500 - 51s - loss: 0.1122 - accuracy: 0.9544 - val_loss: 1.1722 - val_accuracy: 0.7377\n",
            "Epoch 43/50\n",
            "4500/4500 - 51s - loss: 0.1126 - accuracy: 0.9538 - val_loss: 1.1979 - val_accuracy: 0.7386\n",
            "Epoch 44/50\n",
            "4500/4500 - 51s - loss: 0.1110 - accuracy: 0.9551 - val_loss: 1.1706 - val_accuracy: 0.7360\n",
            "Epoch 45/50\n",
            "4500/4500 - 51s - loss: 0.1081 - accuracy: 0.9561 - val_loss: 1.1642 - val_accuracy: 0.7372\n",
            "Epoch 46/50\n",
            "4500/4500 - 51s - loss: 0.1066 - accuracy: 0.9573 - val_loss: 1.1956 - val_accuracy: 0.7338\n",
            "Epoch 47/50\n",
            "4500/4500 - 51s - loss: 0.1083 - accuracy: 0.9565 - val_loss: 1.2062 - val_accuracy: 0.7339\n",
            "Epoch 48/50\n",
            "4500/4500 - 51s - loss: 0.1050 - accuracy: 0.9577 - val_loss: 1.2114 - val_accuracy: 0.7330\n",
            "Epoch 49/50\n",
            "4500/4500 - 51s - loss: 0.1041 - accuracy: 0.9582 - val_loss: 1.2174 - val_accuracy: 0.7366\n",
            "Epoch 50/50\n",
            "4500/4500 - 51s - loss: 0.1050 - accuracy: 0.9578 - val_loss: 1.2124 - val_accuracy: 0.7307\n"
          ],
          "name": "stdout"
        },
        {
          "output_type": "display_data",
          "data": {
            "image/png": "[encoded data removed]",
            "text/plain": [
              "<Figure size 432x288 with 1 Axes>"
            ]
          },
          "metadata": {
            "tags": [],
            "needs_background": "light"
          }
        },
        {
          "output_type": "display_data",
          "data": {
            "image/png": "[encoded data removed]",
            "text/plain": [
              "<Figure size 432x288 with 1 Axes>"
            ]
          },
          "metadata": {
            "tags": [],
            "needs_background": "light"
          }
        }
      ]
    },
    {
      "cell_type": "markdown",
      "metadata": {
        "id": "BbIbjgEBCnX4",
        "colab_type": "text"
      },
      "source": [
        "**Model 5: Embedding with Dropout, Conv1D, MaxPooling1D, 1 Bidirectional LSTM**"
      ]
    },
    {
      "cell_type": "code",
      "metadata": {
        "id": "4GKoYPZOCqIL",
        "colab_type": "code",
        "colab": {
          "base_uri": "https://localhost:8080/",
          "height": 1000
        },
        "outputId": "889ba90d-05ab-4fac-c22b-5f94516aee94"
      },
      "source": [
        "model_5 = tf.keras.Sequential([\n",
        "      tf.keras.layers.Embedding(input_dim=vocab_size+1, \n",
        "                                output_dim=embedding_dim, \n",
        "                                input_length=max_length,\n",
        "                                weights=[embeddings_matrix],\n",
        "                                trainable=False),\n",
        "      tf.keras.layers.Dropout(0.2),                         \n",
        "      tf.keras.layers.Conv1D(64, 5, activation='relu'),\n",
        "      tf.keras.layers.MaxPooling1D(pool_size=4),\n",
        "      tf.keras.layers.Bidirectional(tf.keras.layers.LSTM(128)),\n",
        "      tf.keras.layers.Dense(8, activation='relu'),\n",
        "      tf.keras.layers.Dense(1, activation='sigmoid')\n",
        "])\n",
        "\n",
        "model_5.compile(loss='binary_crossentropy', optimizer='adam', metrics=['accuracy'])\n",
        "model_5.summary()\n",
        "\n",
        "history_5 = model_5.fit(training_padded, training_labels, epochs=50, validation_data=(val_padded, val_labels))\n",
        "\n",
        "plot_graphs(history_5, \"accuracy\")\n",
        "plot_graphs(history_5, \"loss\")"
      ],
      "execution_count": 20,
      "outputs": [
        {
          "output_type": "stream",
          "text": [
            "Model: \"sequential_6\"\n",
            "_________________________________________________________________\n",
            "Layer (type)                 Output Shape              Param #   \n",
            "=================================================================\n",
            "embedding_6 (Embedding)      (None, 64, 100)           13842400  \n",
            "_________________________________________________________________\n",
            "dropout (Dropout)            (None, 64, 100)           0         \n",
            "_________________________________________________________________\n",
            "conv1d_4 (Conv1D)            (None, 60, 64)            32064     \n",
            "_________________________________________________________________\n",
            "max_pooling1d_4 (MaxPooling1 (None, 15, 64)            0         \n",
            "_________________________________________________________________\n",
            "bidirectional_4 (Bidirection (None, 128)               66048     \n",
            "_________________________________________________________________\n",
            "dense_12 (Dense)             (None, 8)                 1032      \n",
            "_________________________________________________________________\n",
            "dense_13 (Dense)             (None, 1)                 9         \n",
            "=================================================================\n",
            "Total params: 13,941,553\n",
            "Trainable params: 99,153\n",
            "Non-trainable params: 13,842,400\n",
            "_________________________________________________________________\n",
            "Epoch 1/50\n",
            "4500/4500 [==============================] - 55s 12ms/step - loss: 0.5478 - accuracy: 0.7172 - val_loss: 0.5143 - val_accuracy: 0.7386\n",
            "Epoch 2/50\n",
            "4500/4500 [==============================] - 55s 12ms/step - loss: 0.5014 - accuracy: 0.7520 - val_loss: 0.4894 - val_accuracy: 0.7629\n",
            "Epoch 3/50\n",
            "4500/4500 [==============================] - 55s 12ms/step - loss: 0.4830 - accuracy: 0.7652 - val_loss: 0.4771 - val_accuracy: 0.7686\n",
            "Epoch 4/50\n",
            "4500/4500 [==============================] - 55s 12ms/step - loss: 0.4712 - accuracy: 0.7734 - val_loss: 0.4728 - val_accuracy: 0.7703\n",
            "Epoch 5/50\n",
            "4500/4500 [==============================] - 55s 12ms/step - loss: 0.4618 - accuracy: 0.7778 - val_loss: 0.4656 - val_accuracy: 0.7767\n",
            "Epoch 6/50\n",
            "4500/4500 [==============================] - 55s 12ms/step - loss: 0.4548 - accuracy: 0.7833 - val_loss: 0.4649 - val_accuracy: 0.7771\n",
            "Epoch 7/50\n",
            "4500/4500 [==============================] - 55s 12ms/step - loss: 0.4480 - accuracy: 0.7871 - val_loss: 0.4635 - val_accuracy: 0.7776\n",
            "Epoch 8/50\n",
            "4500/4500 [==============================] - 55s 12ms/step - loss: 0.4419 - accuracy: 0.7905 - val_loss: 0.4687 - val_accuracy: 0.7768\n",
            "Epoch 9/50\n",
            "4500/4500 [==============================] - 55s 12ms/step - loss: 0.4378 - accuracy: 0.7929 - val_loss: 0.4671 - val_accuracy: 0.7794\n",
            "Epoch 10/50\n",
            "4500/4500 [==============================] - 55s 12ms/step - loss: 0.4327 - accuracy: 0.7956 - val_loss: 0.4666 - val_accuracy: 0.7739\n",
            "Epoch 11/50\n",
            "4500/4500 [==============================] - 55s 12ms/step - loss: 0.4294 - accuracy: 0.7978 - val_loss: 0.4693 - val_accuracy: 0.7756\n",
            "Epoch 12/50\n",
            "4500/4500 [==============================] - 55s 12ms/step - loss: 0.4250 - accuracy: 0.7998 - val_loss: 0.4659 - val_accuracy: 0.7774\n",
            "Epoch 13/50\n",
            "4500/4500 [==============================] - 55s 12ms/step - loss: 0.4219 - accuracy: 0.8018 - val_loss: 0.4729 - val_accuracy: 0.7765\n",
            "Epoch 14/50\n",
            "4500/4500 [==============================] - 55s 12ms/step - loss: 0.4186 - accuracy: 0.8043 - val_loss: 0.4729 - val_accuracy: 0.7792\n",
            "Epoch 15/50\n",
            "4500/4500 [==============================] - 55s 12ms/step - loss: 0.4163 - accuracy: 0.8052 - val_loss: 0.4762 - val_accuracy: 0.7779\n",
            "Epoch 16/50\n",
            "4500/4500 [==============================] - 54s 12ms/step - loss: 0.4142 - accuracy: 0.8055 - val_loss: 0.4715 - val_accuracy: 0.7751\n",
            "Epoch 17/50\n",
            "4500/4500 [==============================] - 55s 12ms/step - loss: 0.4127 - accuracy: 0.8070 - val_loss: 0.4752 - val_accuracy: 0.7748\n",
            "Epoch 18/50\n",
            "4500/4500 [==============================] - 55s 12ms/step - loss: 0.4093 - accuracy: 0.8088 - val_loss: 0.4755 - val_accuracy: 0.7761\n",
            "Epoch 19/50\n",
            "4500/4500 [==============================] - 55s 12ms/step - loss: 0.4076 - accuracy: 0.8099 - val_loss: 0.4740 - val_accuracy: 0.7768\n",
            "Epoch 20/50\n",
            "4500/4500 [==============================] - 55s 12ms/step - loss: 0.4052 - accuracy: 0.8111 - val_loss: 0.4806 - val_accuracy: 0.7771\n",
            "Epoch 21/50\n",
            "4500/4500 [==============================] - 55s 12ms/step - loss: 0.4044 - accuracy: 0.8121 - val_loss: 0.4778 - val_accuracy: 0.7712\n",
            "Epoch 22/50\n",
            "4500/4500 [==============================] - 55s 12ms/step - loss: 0.4029 - accuracy: 0.8128 - val_loss: 0.4728 - val_accuracy: 0.7748\n",
            "Epoch 23/50\n",
            "4500/4500 [==============================] - 55s 12ms/step - loss: 0.4019 - accuracy: 0.8128 - val_loss: 0.4765 - val_accuracy: 0.7739\n",
            "Epoch 24/50\n",
            "4500/4500 [==============================] - 55s 12ms/step - loss: 0.4019 - accuracy: 0.8136 - val_loss: 0.4757 - val_accuracy: 0.7738\n",
            "Epoch 25/50\n",
            "4500/4500 [==============================] - 55s 12ms/step - loss: 0.3989 - accuracy: 0.8144 - val_loss: 0.4884 - val_accuracy: 0.7729\n",
            "Epoch 26/50\n",
            "4500/4500 [==============================] - 55s 12ms/step - loss: 0.3979 - accuracy: 0.8158 - val_loss: 0.4720 - val_accuracy: 0.7726\n",
            "Epoch 27/50\n",
            "4500/4500 [==============================] - 55s 12ms/step - loss: 0.3974 - accuracy: 0.8157 - val_loss: 0.4774 - val_accuracy: 0.7733\n",
            "Epoch 28/50\n",
            "4500/4500 [==============================] - 55s 12ms/step - loss: 0.3959 - accuracy: 0.8164 - val_loss: 0.4883 - val_accuracy: 0.7724\n",
            "Epoch 29/50\n",
            "4500/4500 [==============================] - 55s 12ms/step - loss: 0.3944 - accuracy: 0.8179 - val_loss: 0.4858 - val_accuracy: 0.7732\n",
            "Epoch 30/50\n",
            "4500/4500 [==============================] - 55s 12ms/step - loss: 0.3941 - accuracy: 0.8177 - val_loss: 0.4853 - val_accuracy: 0.7697\n",
            "Epoch 31/50\n",
            "4500/4500 [==============================] - 55s 12ms/step - loss: 0.3930 - accuracy: 0.8177 - val_loss: 0.4838 - val_accuracy: 0.7719\n",
            "Epoch 32/50\n",
            "4500/4500 [==============================] - 55s 12ms/step - loss: 0.3920 - accuracy: 0.8192 - val_loss: 0.4865 - val_accuracy: 0.7726\n",
            "Epoch 33/50\n",
            "4500/4500 [==============================] - 55s 12ms/step - loss: 0.3922 - accuracy: 0.8190 - val_loss: 0.4792 - val_accuracy: 0.7735\n",
            "Epoch 34/50\n",
            "4500/4500 [==============================] - 55s 12ms/step - loss: 0.3905 - accuracy: 0.8192 - val_loss: 0.4880 - val_accuracy: 0.7714\n",
            "Epoch 35/50\n",
            "4500/4500 [==============================] - 55s 12ms/step - loss: 0.3911 - accuracy: 0.8189 - val_loss: 0.4835 - val_accuracy: 0.7688\n",
            "Epoch 36/50\n",
            "4500/4500 [==============================] - 55s 12ms/step - loss: 0.3896 - accuracy: 0.8198 - val_loss: 0.4826 - val_accuracy: 0.7740\n",
            "Epoch 37/50\n",
            "4500/4500 [==============================] - 55s 12ms/step - loss: 0.3887 - accuracy: 0.8201 - val_loss: 0.4866 - val_accuracy: 0.7739\n",
            "Epoch 38/50\n",
            "4500/4500 [==============================] - 55s 12ms/step - loss: 0.3881 - accuracy: 0.8210 - val_loss: 0.4899 - val_accuracy: 0.7685\n",
            "Epoch 39/50\n",
            "4500/4500 [==============================] - 55s 12ms/step - loss: 0.3869 - accuracy: 0.8220 - val_loss: 0.4838 - val_accuracy: 0.7721\n",
            "Epoch 40/50\n",
            "4500/4500 [==============================] - 55s 12ms/step - loss: 0.3870 - accuracy: 0.8217 - val_loss: 0.4959 - val_accuracy: 0.7742\n",
            "Epoch 41/50\n",
            "4500/4500 [==============================] - 55s 12ms/step - loss: 0.3874 - accuracy: 0.8202 - val_loss: 0.4847 - val_accuracy: 0.7692\n",
            "Epoch 42/50\n",
            "4500/4500 [==============================] - 55s 12ms/step - loss: 0.3864 - accuracy: 0.8234 - val_loss: 0.4814 - val_accuracy: 0.7737\n",
            "Epoch 43/50\n",
            "4500/4500 [==============================] - 55s 12ms/step - loss: 0.3862 - accuracy: 0.8218 - val_loss: 0.4839 - val_accuracy: 0.7736\n",
            "Epoch 44/50\n",
            "4500/4500 [==============================] - 55s 12ms/step - loss: 0.3848 - accuracy: 0.8221 - val_loss: 0.4859 - val_accuracy: 0.7722\n",
            "Epoch 45/50\n",
            "4500/4500 [==============================] - 55s 12ms/step - loss: 0.3871 - accuracy: 0.8215 - val_loss: 0.4964 - val_accuracy: 0.7679\n",
            "Epoch 46/50\n",
            "4500/4500 [==============================] - 55s 12ms/step - loss: 0.3867 - accuracy: 0.8228 - val_loss: 0.4928 - val_accuracy: 0.7711\n",
            "Epoch 47/50\n",
            "4500/4500 [==============================] - 55s 12ms/step - loss: 0.3853 - accuracy: 0.8226 - val_loss: 0.4875 - val_accuracy: 0.7706\n",
            "Epoch 48/50\n",
            "4500/4500 [==============================] - 55s 12ms/step - loss: 0.3842 - accuracy: 0.8230 - val_loss: 0.4903 - val_accuracy: 0.7710\n",
            "Epoch 49/50\n",
            "4500/4500 [==============================] - 55s 12ms/step - loss: 0.3843 - accuracy: 0.8232 - val_loss: 0.4846 - val_accuracy: 0.7704\n",
            "Epoch 50/50\n",
            "4500/4500 [==============================] - 55s 12ms/step - loss: 0.3847 - accuracy: 0.8237 - val_loss: 0.4894 - val_accuracy: 0.7716\n"
          ],
          "name": "stdout"
        },
        {
          "output_type": "display_data",
          "data": {
            "image/png": "[encoded data removed]",
            "text/plain": [
              "<Figure size 432x288 with 1 Axes>"
            ]
          },
          "metadata": {
            "tags": [],
            "needs_background": "light"
          }
        },
        {
          "output_type": "display_data",
          "data": {
            "image/png": "[encoded data removed]",
            "text/plain": [
              "<Figure size 432x288 with 1 Axes>"
            ]
          },
          "metadata": {
            "tags": [],
            "needs_background": "light"
          }
        }
      ]
    },
    {
      "cell_type": "code",
      "metadata": {
        "id": "Wp9wqKTQC3fl",
        "colab_type": "code",
        "colab": {}
      },
      "source": [
        ""
      ],
      "execution_count": null,
      "outputs": []
    }
  ]
}